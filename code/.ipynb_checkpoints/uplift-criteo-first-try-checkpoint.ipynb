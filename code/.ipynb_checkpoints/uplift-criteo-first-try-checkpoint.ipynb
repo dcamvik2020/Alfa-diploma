{
 "cells": [
  {
   "cell_type": "code",
   "execution_count": 55,
   "metadata": {
    "_cell_guid": "b1076dfc-b9ad-4769-8c92-a6c4dae69d19",
    "_uuid": "8f2839f25d086af736a60e9eeb907d3b93b6e0e5"
   },
   "outputs": [],
   "source": [
    "import numpy as np\n",
    "import pandas as pd\n",
    "import matplotlib.pyplot as plt\n",
    "import seaborn as sns\n",
    "\n",
    "from sklearn.ensemble import GradientBoostingRegressor, GradientBoostingClassifier\n",
    "from sklearn.ensemble import RandomForestRegressor, RandomForestClassifier\n",
    "\n",
    "from sklearn.model_selection import train_test_split, GridSearchCV\n",
    "from sklearn.metrics import roc_auc_score, roc_curve, accuracy_score\n",
    "from sklearn.metrics import precision_score, recall_score, plot_roc_curve\n",
    "\n",
    "from sklift.metrics import perfect_qini_curve, perfect_uplift_curve\n",
    "from sklift.metrics import qini_auc_score, qini_curve\n",
    "from sklift.metrics import response_rate_by_percentile\n",
    "from sklift.metrics import uplift_auc_score, uplift_curve\n",
    "from sklift.metrics import uplift_by_percentile\n",
    "from sklift.metrics import weighted_average_uplift, uplift_at_k\n",
    "\n",
    "from sklift.models import ClassTransformation, SoloModel, TwoModels\n",
    "\n",
    "from sklift.viz import plot_qini_curve, plot_uplift_curve\n",
    "from sklift.viz import plot_uplift_by_percentile\n",
    "\n",
    "import gc"
   ]
  },
  {
   "cell_type": "markdown",
   "metadata": {},
   "source": [
    "# Data\n",
    "\n",
    "link to the data, starter notebook: https://www.kaggle.com/datasets/arashnic/uplift-modeling"
   ]
  },
  {
   "cell_type": "code",
   "execution_count": null,
   "metadata": {},
   "outputs": [],
   "source": []
  },
  {
   "cell_type": "markdown",
   "metadata": {},
   "source": [
    "# Contents\n",
    "\n",
    "1. Data overview\n",
    "2. EDA\n",
    "3. Models to use\n",
    "4. "
   ]
  },
  {
   "cell_type": "markdown",
   "metadata": {},
   "source": [
    "## Data overview"
   ]
  },
  {
   "cell_type": "code",
   "execution_count": 2,
   "metadata": {
    "execution": {
     "iopub.execute_input": "2022-11-03T18:51:36.645998Z",
     "iopub.status.busy": "2022-11-03T18:51:36.645604Z",
     "iopub.status.idle": "2022-11-03T18:52:50.099005Z",
     "shell.execute_reply": "2022-11-03T18:52:50.097934Z",
     "shell.execute_reply.started": "2022-11-03T18:51:36.645963Z"
    }
   },
   "outputs": [
    {
     "data": {
      "text/html": [
       "<div>\n",
       "<style scoped>\n",
       "    .dataframe tbody tr th:only-of-type {\n",
       "        vertical-align: middle;\n",
       "    }\n",
       "\n",
       "    .dataframe tbody tr th {\n",
       "        vertical-align: top;\n",
       "    }\n",
       "\n",
       "    .dataframe thead th {\n",
       "        text-align: right;\n",
       "    }\n",
       "</style>\n",
       "<table border=\"1\" class=\"dataframe\">\n",
       "  <thead>\n",
       "    <tr style=\"text-align: right;\">\n",
       "      <th></th>\n",
       "      <th>f0</th>\n",
       "      <th>f1</th>\n",
       "      <th>f2</th>\n",
       "      <th>f3</th>\n",
       "      <th>f4</th>\n",
       "      <th>f5</th>\n",
       "      <th>f6</th>\n",
       "      <th>f7</th>\n",
       "      <th>f8</th>\n",
       "      <th>f9</th>\n",
       "      <th>f10</th>\n",
       "      <th>f11</th>\n",
       "      <th>treatment</th>\n",
       "      <th>conversion</th>\n",
       "      <th>visit</th>\n",
       "      <th>exposure</th>\n",
       "    </tr>\n",
       "  </thead>\n",
       "  <tbody>\n",
       "    <tr>\n",
       "      <th>0</th>\n",
       "      <td>12.616365</td>\n",
       "      <td>10.059654</td>\n",
       "      <td>8.976429</td>\n",
       "      <td>4.679882</td>\n",
       "      <td>10.280525</td>\n",
       "      <td>4.115453</td>\n",
       "      <td>0.294443</td>\n",
       "      <td>4.833815</td>\n",
       "      <td>3.955396</td>\n",
       "      <td>13.190056</td>\n",
       "      <td>5.300375</td>\n",
       "      <td>-0.168679</td>\n",
       "      <td>1</td>\n",
       "      <td>0</td>\n",
       "      <td>0</td>\n",
       "      <td>0</td>\n",
       "    </tr>\n",
       "    <tr>\n",
       "      <th>1</th>\n",
       "      <td>12.616365</td>\n",
       "      <td>10.059654</td>\n",
       "      <td>9.002689</td>\n",
       "      <td>4.679882</td>\n",
       "      <td>10.280525</td>\n",
       "      <td>4.115453</td>\n",
       "      <td>0.294443</td>\n",
       "      <td>4.833815</td>\n",
       "      <td>3.955396</td>\n",
       "      <td>13.190056</td>\n",
       "      <td>5.300375</td>\n",
       "      <td>-0.168679</td>\n",
       "      <td>1</td>\n",
       "      <td>0</td>\n",
       "      <td>0</td>\n",
       "      <td>0</td>\n",
       "    </tr>\n",
       "  </tbody>\n",
       "</table>\n",
       "</div>"
      ],
      "text/plain": [
       "          f0         f1        f2        f3         f4        f5        f6  \\\n",
       "0  12.616365  10.059654  8.976429  4.679882  10.280525  4.115453  0.294443   \n",
       "1  12.616365  10.059654  9.002689  4.679882  10.280525  4.115453  0.294443   \n",
       "\n",
       "         f7        f8         f9       f10       f11  treatment  conversion  \\\n",
       "0  4.833815  3.955396  13.190056  5.300375 -0.168679          1           0   \n",
       "1  4.833815  3.955396  13.190056  5.300375 -0.168679          1           0   \n",
       "\n",
       "   visit  exposure  \n",
       "0      0         0  \n",
       "1      0         0  "
      ]
     },
     "execution_count": 2,
     "metadata": {},
     "output_type": "execute_result"
    }
   ],
   "source": [
    "# df = pd.read_csv(\"../input/uplift-modeling/criteo-uplift-v2.1.csv\")\n",
    "df = pd.read_csv(\"../criteo-uplift-v2.1.csv/criteo-uplift-v2.1.csv\")\n",
    "df.head(2)"
   ]
  },
  {
   "cell_type": "code",
   "execution_count": 3,
   "metadata": {},
   "outputs": [
    {
     "data": {
      "text/plain": [
       "(13979592, 16)"
      ]
     },
     "execution_count": 3,
     "metadata": {},
     "output_type": "execute_result"
    }
   ],
   "source": [
    "df.shape"
   ]
  },
  {
   "cell_type": "code",
   "execution_count": 3,
   "metadata": {
    "execution": {
     "iopub.execute_input": "2022-11-03T18:52:50.101066Z",
     "iopub.status.busy": "2022-11-03T18:52:50.100418Z",
     "iopub.status.idle": "2022-11-03T18:52:50.108946Z",
     "shell.execute_reply": "2022-11-03T18:52:50.107917Z",
     "shell.execute_reply.started": "2022-11-03T18:52:50.101023Z"
    }
   },
   "outputs": [
    {
     "data": {
      "text/plain": [
       "Index(['f0', 'f1', 'f2', 'f3', 'f4', 'f5', 'f6', 'f7', 'f8', 'f9', 'f10',\n",
       "       'f11', 'treatment', 'conversion', 'visit', 'exposure'],\n",
       "      dtype='object')"
      ]
     },
     "execution_count": 3,
     "metadata": {},
     "output_type": "execute_result"
    }
   ],
   "source": [
    "df.columns"
   ]
  },
  {
   "cell_type": "code",
   "execution_count": 4,
   "metadata": {},
   "outputs": [
    {
     "data": {
      "text/plain": [
       "f0            float64\n",
       "f1            float64\n",
       "f2            float64\n",
       "f3            float64\n",
       "f4            float64\n",
       "f5            float64\n",
       "f6            float64\n",
       "f7            float64\n",
       "f8            float64\n",
       "f9            float64\n",
       "f10           float64\n",
       "f11           float64\n",
       "treatment       int64\n",
       "conversion      int64\n",
       "visit           int64\n",
       "exposure        int64\n",
       "dtype: object"
      ]
     },
     "execution_count": 4,
     "metadata": {},
     "output_type": "execute_result"
    }
   ],
   "source": [
    "df.dtypes"
   ]
  },
  {
   "cell_type": "markdown",
   "metadata": {},
   "source": [
    "## EDA"
   ]
  },
  {
   "cell_type": "code",
   "execution_count": 10,
   "metadata": {
    "execution": {
     "iopub.execute_input": "2022-11-03T18:52:50.111494Z",
     "iopub.status.busy": "2022-11-03T18:52:50.111172Z",
     "iopub.status.idle": "2022-11-03T18:52:50.582428Z",
     "shell.execute_reply": "2022-11-03T18:52:50.581427Z",
     "shell.execute_reply.started": "2022-11-03T18:52:50.111465Z"
    }
   },
   "outputs": [],
   "source": [
    "feats = ['f0', 'f1', 'f2', 'f3', 'f4', 'f5', 'f6', 'f7', 'f8', 'f9', 'f10', 'f11']\n",
    "treatment = 'treatment'\n",
    "# treatment = 'exposure'\n",
    "# target = 'conversion'\n",
    "target = 'visit'"
   ]
  },
  {
   "cell_type": "code",
   "execution_count": null,
   "metadata": {},
   "outputs": [],
   "source": [
    "X, t, y = df[feats], df[treatment], df[target]"
   ]
  },
  {
   "cell_type": "code",
   "execution_count": 46,
   "metadata": {},
   "outputs": [
    {
     "name": "stdout",
     "output_type": "stream",
     "text": [
      "All values in column same sign\n",
      "f0 True\n",
      "f1 True\n",
      "f2 True\n",
      "f3 False\n",
      "f4 True\n",
      "f5 False\n",
      "f6 False\n",
      "f7 True\n",
      "f8 True\n",
      "f9 True\n",
      "f10 True\n",
      "f11 True\n"
     ]
    }
   ],
   "source": [
    "print('All values in column same sign')\n",
    "for col in X.columns:\n",
    "    all_pos = np.all(X[col] >= 0)\n",
    "    all_neg = np.all(X[col] <= 0)\n",
    "    same_sign = (np.all(all_pos) or np.all(all_neg))\n",
    "    print(col, same_sign)"
   ]
  },
  {
   "cell_type": "code",
   "execution_count": 47,
   "metadata": {
    "scrolled": false
   },
   "outputs": [
    {
     "data": {
      "image/png": "[encoded data removed]",
      "text/plain": [
       "<Figure size 648x864 with 12 Axes>"
      ]
     },
     "metadata": {
      "needs_background": "light"
     },
     "output_type": "display_data"
    }
   ],
   "source": [
    "def plot_feats_distr(X):\n",
    "    fig, axes = plt.subplots(4, 3, figsize=(9, 12))\n",
    "\n",
    "    for i, col in enumerate(X.columns):\n",
    "        plt.subplot(4, 3, i + 1)\n",
    "        plt.hist(X[col], bins=20)\n",
    "        plt.title(f'{col} distribution')\n",
    "        plt.subplots_adjust(bottom=0.05, top=0.95)\n",
    "\n",
    "plot_feats_distr(X)"
   ]
  },
  {
   "cell_type": "markdown",
   "metadata": {},
   "source": [
    "Try to modify columns: col = log(col - min(col) + 1)"
   ]
  },
  {
   "cell_type": "code",
   "execution_count": 48,
   "metadata": {
    "scrolled": true
   },
   "outputs": [],
   "source": [
    "# the effect seems unvisible...\n",
    "# for col in X.columns:\n",
    "#     X.loc[:, col] = np.log(X[col] - np.min(X[col]) + 1)\n",
    "    \n",
    "# plot_feats_distr(X)"
   ]
  },
  {
   "cell_type": "code",
   "execution_count": 52,
   "metadata": {
    "scrolled": false
   },
   "outputs": [
    {
     "name": "stdout",
     "output_type": "stream",
     "text": [
      "Treatment distribution\n"
     ]
    },
    {
     "data": {
      "text/plain": [
       "1    11882655\n",
       "0     2096937\n",
       "Name: treatment, dtype: int64"
      ]
     },
     "execution_count": 52,
     "metadata": {},
     "output_type": "execute_result"
    }
   ],
   "source": [
    "print('Treatment distribution')\n",
    "t.value_counts()"
   ]
  },
  {
   "cell_type": "code",
   "execution_count": 53,
   "metadata": {},
   "outputs": [
    {
     "name": "stdout",
     "output_type": "stream",
     "text": [
      "Target distribution\n"
     ]
    },
    {
     "data": {
      "text/plain": [
       "0    13322663\n",
       "1      656929\n",
       "Name: visit, dtype: int64"
      ]
     },
     "execution_count": 53,
     "metadata": {},
     "output_type": "execute_result"
    }
   ],
   "source": [
    "print('Target distribution')\n",
    "y.value_counts()"
   ]
  },
  {
   "cell_type": "code",
   "execution_count": 63,
   "metadata": {},
   "outputs": [
    {
     "data": {
      "text/html": [
       "<div>\n",
       "<style scoped>\n",
       "    .dataframe tbody tr th:only-of-type {\n",
       "        vertical-align: middle;\n",
       "    }\n",
       "\n",
       "    .dataframe tbody tr th {\n",
       "        vertical-align: top;\n",
       "    }\n",
       "\n",
       "    .dataframe thead th {\n",
       "        text-align: right;\n",
       "    }\n",
       "</style>\n",
       "<table border=\"1\" class=\"dataframe\">\n",
       "  <thead>\n",
       "    <tr style=\"text-align: right;\">\n",
       "      <th>visit</th>\n",
       "      <th>0</th>\n",
       "      <th>1</th>\n",
       "    </tr>\n",
       "    <tr>\n",
       "      <th>treatment</th>\n",
       "      <th></th>\n",
       "      <th></th>\n",
       "    </tr>\n",
       "  </thead>\n",
       "  <tbody>\n",
       "    <tr>\n",
       "      <th>0</th>\n",
       "      <td>0.144270</td>\n",
       "      <td>0.005730</td>\n",
       "    </tr>\n",
       "    <tr>\n",
       "      <th>1</th>\n",
       "      <td>0.808738</td>\n",
       "      <td>0.041262</td>\n",
       "    </tr>\n",
       "  </tbody>\n",
       "</table>\n",
       "</div>"
      ],
      "text/plain": [
       "visit             0         1\n",
       "treatment                    \n",
       "0          0.144270  0.005730\n",
       "1          0.808738  0.041262"
      ]
     },
     "execution_count": 63,
     "metadata": {},
     "output_type": "execute_result"
    }
   ],
   "source": [
    "pd.crosstab(t, y, normalize='all')"
   ]
  },
  {
   "cell_type": "code",
   "execution_count": 64,
   "metadata": {},
   "outputs": [
    {
     "data": {
      "text/html": [
       "<div>\n",
       "<style scoped>\n",
       "    .dataframe tbody tr th:only-of-type {\n",
       "        vertical-align: middle;\n",
       "    }\n",
       "\n",
       "    .dataframe tbody tr th {\n",
       "        vertical-align: top;\n",
       "    }\n",
       "\n",
       "    .dataframe thead th {\n",
       "        text-align: right;\n",
       "    }\n",
       "</style>\n",
       "<table border=\"1\" class=\"dataframe\">\n",
       "  <thead>\n",
       "    <tr style=\"text-align: right;\">\n",
       "      <th>visit</th>\n",
       "      <th>0</th>\n",
       "      <th>1</th>\n",
       "    </tr>\n",
       "    <tr>\n",
       "      <th>treatment</th>\n",
       "      <th></th>\n",
       "      <th></th>\n",
       "    </tr>\n",
       "  </thead>\n",
       "  <tbody>\n",
       "    <tr>\n",
       "      <th>0</th>\n",
       "      <td>0.961799</td>\n",
       "      <td>0.038201</td>\n",
       "    </tr>\n",
       "    <tr>\n",
       "      <th>1</th>\n",
       "      <td>0.951457</td>\n",
       "      <td>0.048543</td>\n",
       "    </tr>\n",
       "  </tbody>\n",
       "</table>\n",
       "</div>"
      ],
      "text/plain": [
       "visit             0         1\n",
       "treatment                    \n",
       "0          0.961799  0.038201\n",
       "1          0.951457  0.048543"
      ]
     },
     "execution_count": 64,
     "metadata": {},
     "output_type": "execute_result"
    }
   ],
   "source": [
    "pd.crosstab(t, y, normalize='index')"
   ]
  },
  {
   "cell_type": "markdown",
   "metadata": {},
   "source": [
    "## Split data to train and test datasets"
   ]
  },
  {
   "cell_type": "code",
   "execution_count": 6,
   "metadata": {
    "execution": {
     "iopub.execute_input": "2022-11-03T18:52:50.686314Z",
     "iopub.status.busy": "2022-11-03T18:52:50.685988Z",
     "iopub.status.idle": "2022-11-03T18:52:59.680136Z",
     "shell.execute_reply": "2022-11-03T18:52:59.678950Z",
     "shell.execute_reply.started": "2022-11-03T18:52:50.686285Z"
    }
   },
   "outputs": [
    {
     "data": {
      "text/plain": [
       "((11183673, 12),\n",
       " (2795919, 12),\n",
       " (11183673,),\n",
       " (2795919,),\n",
       " (11183673,),\n",
       " (2795919,))"
      ]
     },
     "execution_count": 6,
     "metadata": {},
     "output_type": "execute_result"
    }
   ],
   "source": [
    "X_train, X_test, t_train, t_test, y_train, y_test = train_test_split(\n",
    "    X, t, y, random_state=42, test_size=0.2, stratify=t\n",
    ")\n",
    "\n",
    "X_train.shape, X_test.shape, t_train.shape, t_test.shape, y_train.shape, y_test.shape"
   ]
  },
  {
   "cell_type": "markdown",
   "metadata": {},
   "source": [
    "Check the ratio of treated clients in train and test"
   ]
  },
  {
   "cell_type": "code",
   "execution_count": 67,
   "metadata": {
    "execution": {
     "iopub.execute_input": "2022-11-03T18:52:59.682014Z",
     "iopub.status.busy": "2022-11-03T18:52:59.681572Z",
     "iopub.status.idle": "2022-11-03T18:53:00.946884Z",
     "shell.execute_reply": "2022-11-03T18:53:00.945997Z",
     "shell.execute_reply.started": "2022-11-03T18:52:59.681968Z"
    }
   },
   "outputs": [
    {
     "data": {
      "text/plain": [
       "(0.850000084945259, 0.8500003040145298)"
      ]
     },
     "execution_count": 67,
     "metadata": {},
     "output_type": "execute_result"
    }
   ],
   "source": [
    "sum(t_train) / len(t_train), sum(t_test) / len(t_test)"
   ]
  },
  {
   "cell_type": "markdown",
   "metadata": {
    "execution": {
     "iopub.execute_input": "2022-11-03T18:53:00.949040Z",
     "iopub.status.busy": "2022-11-03T18:53:00.948364Z",
     "iopub.status.idle": "2022-11-03T18:53:01.113021Z",
     "shell.execute_reply": "2022-11-03T18:53:01.111780Z",
     "shell.execute_reply.started": "2022-11-03T18:53:00.949005Z"
    }
   },
   "source": [
    "## Try conventional modelling (classification) without treatment indicator\n",
    "\n",
    "WARNING: fit/inference it without treatment indicator"
   ]
  },
  {
   "cell_type": "code",
   "execution_count": 71,
   "metadata": {
    "execution": {
     "iopub.execute_input": "2022-11-03T18:53:09.333333Z",
     "iopub.status.busy": "2022-11-03T18:53:09.332911Z",
     "iopub.status.idle": "2022-11-03T18:56:52.347545Z",
     "shell.execute_reply": "2022-11-03T18:56:52.345727Z",
     "shell.execute_reply.started": "2022-11-03T18:53:09.333296Z"
    },
    "scrolled": true
   },
   "outputs": [
    {
     "name": "stderr",
     "output_type": "stream",
     "text": [
      "[Parallel(n_jobs=-1)]: Using backend ThreadingBackend with 12 concurrent workers.\n"
     ]
    },
    {
     "name": "stdout",
     "output_type": "stream",
     "text": [
      "building tree 1 of 150building tree 2 of 150\n",
      "building tree 3 of 150\n",
      "building tree 4 of 150\n",
      "\n",
      "building tree 5 of 150building tree 6 of 150\n",
      "building tree 7 of 150\n",
      "building tree 8 of 150\n",
      "\n",
      "building tree 9 of 150building tree 10 of 150\n",
      "building tree 11 of 150\n",
      "building tree 12 of 150\n",
      "\n",
      "building tree 13 of 150\n",
      "building tree 14 of 150\n",
      "building tree 15 of 150\n",
      "building tree 16 of 150\n",
      "building tree 17 of 150\n",
      "building tree 18 of 150\n",
      "building tree 19 of 150\n",
      "building tree 20 of 150\n",
      "building tree 21 of 150\n",
      "building tree 22 of 150\n",
      "building tree 23 of 150\n",
      "building tree 24 of 150\n",
      "building tree 25 of 150\n",
      "building tree 26 of 150\n",
      "building tree 27 of 150\n",
      "building tree 28 of 150\n",
      "building tree 29 of 150\n",
      "building tree 30 of 150\n"
     ]
    },
    {
     "name": "stderr",
     "output_type": "stream",
     "text": [
      "[Parallel(n_jobs=-1)]: Done  17 tasks      | elapsed:  2.2min\n"
     ]
    },
    {
     "name": "stdout",
     "output_type": "stream",
     "text": [
      "building tree 31 of 150\n",
      "building tree 32 of 150\n",
      "building tree 33 of 150\n",
      "building tree 34 of 150\n",
      "building tree 35 of 150\n",
      "building tree 36 of 150\n",
      "building tree 37 of 150\n",
      "building tree 38 of 150\n",
      "building tree 39 of 150\n",
      "building tree 40 of 150\n",
      "building tree 41 of 150\n",
      "building tree 42 of 150\n",
      "building tree 43 of 150\n",
      "building tree 44 of 150\n",
      "building tree 45 of 150\n",
      "building tree 46 of 150\n",
      "building tree 47 of 150\n",
      "building tree 48 of 150\n",
      "building tree 49 of 150\n",
      "building tree 50 of 150\n",
      "building tree 51 of 150\n",
      "building tree 52 of 150\n",
      "building tree 53 of 150\n",
      "building tree 54 of 150\n",
      "building tree 55 of 150\n",
      "building tree 56 of 150\n",
      "building tree 57 of 150\n",
      "building tree 58 of 150\n",
      "building tree 59 of 150\n",
      "building tree 60 of 150\n",
      "building tree 61 of 150\n",
      "building tree 62 of 150\n",
      "building tree 63 of 150\n",
      "building tree 64 of 150\n",
      "building tree 65 of 150\n",
      "building tree 66 of 150\n",
      "building tree 67 of 150\n",
      "building tree 68 of 150\n",
      "building tree 69 of 150\n",
      "building tree 70 of 150\n",
      "building tree 71 of 150\n",
      "building tree 72 of 150\n",
      "building tree 73 of 150\n",
      "building tree 74 of 150\n",
      "building tree 75 of 150\n",
      "building tree 76 of 150\n",
      "building tree 77 of 150\n",
      "building tree 78 of 150\n",
      "building tree 79 of 150\n",
      "building tree 80 of 150\n",
      "building tree 81 of 150\n",
      "building tree 82 of 150\n",
      "building tree 83 of 150\n",
      "building tree 84 of 150\n",
      "building tree 85 of 150\n",
      "building tree 86 of 150\n",
      "building tree 87 of 150\n",
      "building tree 88 of 150\n",
      "building tree 89 of 150\n",
      "building tree 90 of 150\n",
      "building tree 91 of 150\n",
      "building tree 92 of 150\n",
      "building tree 93 of 150\n",
      "building tree 94 of 150\n",
      "building tree 95 of 150\n",
      "building tree 96 of 150\n",
      "building tree 97 of 150\n",
      "building tree 98 of 150\n",
      "building tree 99 of 150\n",
      "building tree 100 of 150\n",
      "building tree 101 of 150\n",
      "building tree 102 of 150\n",
      "building tree 103 of 150\n",
      "building tree 104 of 150\n",
      "building tree 105 of 150\n",
      "building tree 106 of 150\n",
      "building tree 107 of 150\n",
      "building tree 108 of 150\n",
      "building tree 109 of 150\n",
      "building tree 110 of 150\n",
      "building tree 111 of 150\n",
      "building tree 112 of 150\n",
      "building tree 113 of 150\n",
      "building tree 114 of 150\n",
      "building tree 115 of 150\n",
      "building tree 116 of 150\n",
      "building tree 117 of 150\n",
      "building tree 118 of 150\n",
      "building tree 119 of 150\n",
      "building tree 120 of 150\n",
      "building tree 121 of 150\n",
      "building tree 122 of 150\n",
      "building tree 123 of 150\n",
      "building tree 124 of 150\n",
      "building tree 125 of 150\n",
      "building tree 126 of 150\n",
      "building tree 127 of 150building tree 128 of 150\n",
      "\n",
      "building tree 129 of 150\n",
      "building tree 130 of 150\n",
      "building tree 131 of 150\n",
      "building tree 132 of 150\n",
      "building tree 133 of 150\n",
      "building tree 134 of 150\n",
      "building tree 135 of 150\n",
      "building tree 136 of 150\n",
      "building tree 137 of 150\n",
      "building tree 138 of 150\n",
      "building tree 139 of 150\n",
      "building tree 140 of 150\n",
      "building tree 141 of 150\n",
      "building tree 142 of 150\n",
      "building tree 143 of 150\n",
      "building tree 144 of 150\n",
      "building tree 145 of 150\n",
      "building tree 146 of 150\n",
      "building tree 147 of 150\n",
      "building tree 148 of 150\n",
      "building tree 149 of 150\n",
      "building tree 150 of 150\n"
     ]
    },
    {
     "name": "stderr",
     "output_type": "stream",
     "text": [
      "[Parallel(n_jobs=-1)]: Done 150 out of 150 | elapsed: 13.0min finished\n"
     ]
    },
    {
     "data": {
      "text/html": [
       "<style>#sk-container-id-1 {color: black;background-color: white;}#sk-container-id-1 pre{padding: 0;}#sk-container-id-1 div.sk-toggleable {background-color: white;}#sk-container-id-1 label.sk-toggleable__label {cursor: pointer;display: block;width: 100%;margin-bottom: 0;padding: 0.3em;box-sizing: border-box;text-align: center;}#sk-container-id-1 label.sk-toggleable__label-arrow:before {content: \"▸\";float: left;margin-right: 0.25em;color: #696969;}#sk-container-id-1 label.sk-toggleable__label-arrow:hover:before {color: black;}#sk-container-id-1 div.sk-estimator:hover label.sk-toggleable__label-arrow:before {color: black;}#sk-container-id-1 div.sk-toggleable__content {max-height: 0;max-width: 0;overflow: hidden;text-align: left;background-color: #f0f8ff;}#sk-container-id-1 div.sk-toggleable__content pre {margin: 0.2em;color: black;border-radius: 0.25em;background-color: #f0f8ff;}#sk-container-id-1 input.sk-toggleable__control:checked~div.sk-toggleable__content {max-height: 200px;max-width: 100%;overflow: auto;}#sk-container-id-1 input.sk-toggleable__control:checked~label.sk-toggleable__label-arrow:before {content: \"▾\";}#sk-container-id-1 div.sk-estimator input.sk-toggleable__control:checked~label.sk-toggleable__label {background-color: #d4ebff;}#sk-container-id-1 div.sk-label input.sk-toggleable__control:checked~label.sk-toggleable__label {background-color: #d4ebff;}#sk-container-id-1 input.sk-hidden--visually {border: 0;clip: rect(1px 1px 1px 1px);clip: rect(1px, 1px, 1px, 1px);height: 1px;margin: -1px;overflow: hidden;padding: 0;position: absolute;width: 1px;}#sk-container-id-1 div.sk-estimator {font-family: monospace;background-color: #f0f8ff;border: 1px dotted black;border-radius: 0.25em;box-sizing: border-box;margin-bottom: 0.5em;}#sk-container-id-1 div.sk-estimator:hover {background-color: #d4ebff;}#sk-container-id-1 div.sk-parallel-item::after {content: \"\";width: 100%;border-bottom: 1px solid gray;flex-grow: 1;}#sk-container-id-1 div.sk-label:hover label.sk-toggleable__label {background-color: #d4ebff;}#sk-container-id-1 div.sk-serial::before {content: \"\";position: absolute;border-left: 1px solid gray;box-sizing: border-box;top: 0;bottom: 0;left: 50%;z-index: 0;}#sk-container-id-1 div.sk-serial {display: flex;flex-direction: column;align-items: center;background-color: white;padding-right: 0.2em;padding-left: 0.2em;position: relative;}#sk-container-id-1 div.sk-item {position: relative;z-index: 1;}#sk-container-id-1 div.sk-parallel {display: flex;align-items: stretch;justify-content: center;background-color: white;position: relative;}#sk-container-id-1 div.sk-item::before, #sk-container-id-1 div.sk-parallel-item::before {content: \"\";position: absolute;border-left: 1px solid gray;box-sizing: border-box;top: 0;bottom: 0;left: 50%;z-index: -1;}#sk-container-id-1 div.sk-parallel-item {display: flex;flex-direction: column;z-index: 1;position: relative;background-color: white;}#sk-container-id-1 div.sk-parallel-item:first-child::after {align-self: flex-end;width: 50%;}#sk-container-id-1 div.sk-parallel-item:last-child::after {align-self: flex-start;width: 50%;}#sk-container-id-1 div.sk-parallel-item:only-child::after {width: 0;}#sk-container-id-1 div.sk-dashed-wrapped {border: 1px dashed gray;margin: 0 0.4em 0.5em 0.4em;box-sizing: border-box;padding-bottom: 0.4em;background-color: white;}#sk-container-id-1 div.sk-label label {font-family: monospace;font-weight: bold;display: inline-block;line-height: 1.2em;}#sk-container-id-1 div.sk-label-container {text-align: center;}#sk-container-id-1 div.sk-container {/* jupyter's `normalize.less` sets `[hidden] { display: none; }` but bootstrap.min.css set `[hidden] { display: none !important; }` so we also need the `!important` here to be able to override the default hidden behavior on the sphinx rendered scikit-learn.org. See: https://github.com/scikit-learn/scikit-learn/issues/21755 */display: inline-block !important;position: relative;}#sk-container-id-1 div.sk-text-repr-fallback {display: none;}</style><div id=\"sk-container-id-1\" class=\"sk-top-container\"><div class=\"sk-text-repr-fallback\"><pre>RandomForestClassifier(max_depth=13, n_estimators=150, n_jobs=-1, verbose=2)</pre><b>In a Jupyter environment, please rerun this cell to show the HTML representation or trust the notebook. <br />On GitHub, the HTML representation is unable to render, please try loading this page with nbviewer.org.</b></div><div class=\"sk-container\" hidden><div class=\"sk-item\"><div class=\"sk-estimator sk-toggleable\"><input class=\"sk-toggleable__control sk-hidden--visually\" id=\"sk-estimator-id-1\" type=\"checkbox\" checked><label for=\"sk-estimator-id-1\" class=\"sk-toggleable__label sk-toggleable__label-arrow\">RandomForestClassifier</label><div class=\"sk-toggleable__content\"><pre>RandomForestClassifier(max_depth=13, n_estimators=150, n_jobs=-1, verbose=2)</pre></div></div></div></div></div>"
      ],
      "text/plain": [
       "RandomForestClassifier(max_depth=13, n_estimators=150, n_jobs=-1, verbose=2)"
      ]
     },
     "execution_count": 71,
     "metadata": {},
     "output_type": "execute_result"
    }
   ],
   "source": [
    "rfclf = RandomForestClassifier(\n",
    "    n_estimators=150, max_depth=13, verbose=2, n_jobs=-1\n",
    ")\n",
    "rfclf.fit(X_train, y_train)"
   ]
  },
  {
   "cell_type": "code",
   "execution_count": 74,
   "metadata": {
    "execution": {
     "iopub.execute_input": "2022-11-03T18:56:52.351095Z",
     "iopub.status.busy": "2022-11-03T18:56:52.350541Z",
     "iopub.status.idle": "2022-11-03T18:56:55.551620Z",
     "shell.execute_reply": "2022-11-03T18:56:55.550488Z",
     "shell.execute_reply.started": "2022-11-03T18:56:52.351062Z"
    }
   },
   "outputs": [
    {
     "name": "stderr",
     "output_type": "stream",
     "text": [
      "[Parallel(n_jobs=12)]: Using backend ThreadingBackend with 12 concurrent workers.\n",
      "[Parallel(n_jobs=12)]: Done  17 tasks      | elapsed:    1.2s\n",
      "[Parallel(n_jobs=12)]: Done 150 out of 150 | elapsed:    8.7s finished\n"
     ]
    }
   ],
   "source": [
    "preds_1 = rfclf.predict(X_test)"
   ]
  },
  {
   "cell_type": "code",
   "execution_count": 82,
   "metadata": {
    "execution": {
     "iopub.execute_input": "2022-11-03T18:56:58.601662Z",
     "iopub.status.busy": "2022-11-03T18:56:58.601159Z",
     "iopub.status.idle": "2022-11-03T18:56:59.208562Z",
     "shell.execute_reply": "2022-11-03T18:56:59.207494Z",
     "shell.execute_reply.started": "2022-11-03T18:56:58.601620Z"
    }
   },
   "outputs": [
    {
     "name": "stdout",
     "output_type": "stream",
     "text": [
      "random forest, 150 trees with max_depth=13\n",
      "test roc_auc : 0.6504\n",
      "test accuracy: 0.9591\n",
      "test precision: 0.6296\n",
      "test recall: 0.3098\n"
     ]
    }
   ],
   "source": [
    "print('random forest, 150 trees with max_depth=13')\n",
    "print('test roc_auc :', np.round(roc_auc_score(y_test, preds_1), decimals=4))\n",
    "print('test accuracy:', np.round(accuracy_score(y_test, preds_1), decimals=4))\n",
    "print('test precision:', np.round(precision_score(y_test, preds_1), decimals=4))\n",
    "print('test recall:', np.round(recall_score(y_test, preds_1), decimals=4))"
   ]
  },
  {
   "cell_type": "code",
   "execution_count": 79,
   "metadata": {
    "collapsed": true
   },
   "outputs": [
    {
     "name": "stderr",
     "output_type": "stream",
     "text": [
      "[Parallel(n_jobs=12)]: Using backend ThreadingBackend with 12 concurrent workers.\n",
      "[Parallel(n_jobs=12)]: Done  17 tasks      | elapsed:    1.2s\n",
      "[Parallel(n_jobs=12)]: Done 150 out of 150 | elapsed:    8.3s finished\n"
     ]
    },
    {
     "data": {
      "text/plain": [
       "[<matplotlib.lines.Line2D at 0x1b6744e2af0>]"
      ]
     },
     "execution_count": 79,
     "metadata": {},
     "output_type": "execute_result"
    },
    {
     "data": {
      "image/png": "[encoded data removed]",
      "text/plain": [
       "<Figure size 432x288 with 1 Axes>"
      ]
     },
     "metadata": {
      "needs_background": "light"
     },
     "output_type": "display_data"
    }
   ],
   "source": [
    "probas_1 = rfclf.predict_proba(X_test)\n",
    "fpr, tpr, _ = roc_curve(y_test, probas_1[:, 1])"
   ]
  },
  {
   "cell_type": "code",
   "execution_count": 80,
   "metadata": {},
   "outputs": [
    {
     "data": {
      "text/plain": [
       "[<matplotlib.lines.Line2D at 0x1b6fedf9e50>]"
      ]
     },
     "execution_count": 80,
     "metadata": {},
     "output_type": "execute_result"
    },
    {
     "data": {
      "image/png": "[encoded data removed]",
      "text/plain": [
       "<Figure size 432x288 with 1 Axes>"
      ]
     },
     "metadata": {
      "needs_background": "light"
     },
     "output_type": "display_data"
    }
   ],
   "source": [
    "plt.title('test ROC curve for RF(150, 13)')\n",
    "plt.xlable(fpr)\n",
    "plt.ylable(tpr)\n",
    "plt.step(fpr, tpr)"
   ]
  },
  {
   "cell_type": "code",
   "execution_count": 87,
   "metadata": {},
   "outputs": [
    {
     "name": "stdout",
     "output_type": "stream",
     "text": [
      "test roc_auc with preds : 0.6504\n",
      "test roc_auc with probs : 0.9459\n"
     ]
    }
   ],
   "source": [
    "# important moment to remember:\n",
    "# we need to use probabilities in roc_auc_score\n",
    "print('test roc_auc with preds :', np.round(roc_auc_score(y_test, preds_1), decimals=4))\n",
    "print('test roc_auc with probs :', np.round(roc_auc_score(y_test, probas_1[:, 1]), decimals=4))"
   ]
  },
  {
   "cell_type": "code",
   "execution_count": 83,
   "metadata": {
    "execution": {
     "iopub.execute_input": "2022-11-03T18:59:13.378345Z",
     "iopub.status.busy": "2022-11-03T18:59:13.377834Z",
     "iopub.status.idle": "2022-11-03T18:59:17.677255Z",
     "shell.execute_reply": "2022-11-03T18:59:17.676054Z",
     "shell.execute_reply.started": "2022-11-03T18:59:13.378305Z"
    }
   },
   "outputs": [
    {
     "name": "stderr",
     "output_type": "stream",
     "text": [
      "c:\\users\\виктор мельников\\appdata\\local\\programs\\python\\python38\\lib\\site-packages\\sklearn\\utils\\deprecation.py:87: FutureWarning: Function plot_roc_curve is deprecated; Function :func:`plot_roc_curve` is deprecated in 1.0 and will be removed in 1.2. Use one of the class methods: :meth:`sklearn.metrics.RocCurveDisplay.from_predictions` or :meth:`sklearn.metrics.RocCurveDisplay.from_estimator`.\n",
      "  warnings.warn(msg, category=FutureWarning)\n",
      "[Parallel(n_jobs=12)]: Using backend ThreadingBackend with 12 concurrent workers.\n",
      "[Parallel(n_jobs=12)]: Done  17 tasks      | elapsed:    1.1s\n",
      "[Parallel(n_jobs=12)]: Done 150 out of 150 | elapsed:    8.4s finished\n"
     ]
    },
    {
     "data": {
      "text/plain": [
       "<sklearn.metrics._plot.roc_curve.RocCurveDisplay at 0x1b67497fee0>"
      ]
     },
     "execution_count": 83,
     "metadata": {},
     "output_type": "execute_result"
    },
    {
     "data": {
      "image/png": "[encoded data removed]",
      "text/plain": [
       "<Figure size 432x288 with 1 Axes>"
      ]
     },
     "metadata": {
      "needs_background": "light"
     },
     "output_type": "display_data"
    }
   ],
   "source": [
    "from sklearn.metrics import plot_roc_curve\n",
    "\n",
    "plot_roc_curve(rfclf, X_test, y_test)"
   ]
  },
  {
   "cell_type": "markdown",
   "metadata": {},
   "source": [
    "Such good test quality even without treatment indicator"
   ]
  },
  {
   "cell_type": "code",
   "execution_count": 17,
   "metadata": {
    "collapsed": true,
    "execution": {
     "iopub.execute_input": "2022-11-03T19:00:54.435017Z",
     "iopub.status.busy": "2022-11-03T19:00:54.433849Z",
     "iopub.status.idle": "2022-11-03T19:01:06.963801Z",
     "shell.execute_reply": "2022-11-03T19:01:06.962326Z",
     "shell.execute_reply.started": "2022-11-03T19:00:54.434961Z"
    },
    "jupyter": {
     "outputs_hidden": true
    }
   },
   "outputs": [
    {
     "name": "stdout",
     "output_type": "stream",
     "text": [
      "Collecting scikit-uplift\n",
      "  Downloading scikit_uplift-0.5.1-py3-none-any.whl (42 kB)\n",
      "\u001b[2K     \u001b[90m━━━━━━━━━━━━━━━━━━━━━━━━━━━━━━━━━━━━━━━━\u001b[0m \u001b[32m42.1/42.1 kB\u001b[0m \u001b[31m1.3 MB/s\u001b[0m eta \u001b[36m0:00:00\u001b[0m\n",
      "\u001b[?25hRequirement already satisfied: numpy>=1.16 in /opt/conda/lib/python3.7/site-packages (from scikit-uplift) (1.21.6)\n",
      "Requirement already satisfied: scikit-learn>=0.21.0 in /opt/conda/lib/python3.7/site-packages (from scikit-uplift) (1.0.2)\n",
      "Requirement already satisfied: pandas in /opt/conda/lib/python3.7/site-packages (from scikit-uplift) (1.3.5)\n",
      "Requirement already satisfied: tqdm in /opt/conda/lib/python3.7/site-packages (from scikit-uplift) (4.64.0)\n",
      "Requirement already satisfied: requests in /opt/conda/lib/python3.7/site-packages (from scikit-uplift) (2.28.1)\n",
      "Requirement already satisfied: matplotlib in /opt/conda/lib/python3.7/site-packages (from scikit-uplift) (3.5.3)\n",
      "Requirement already satisfied: threadpoolctl>=2.0.0 in /opt/conda/lib/python3.7/site-packages (from scikit-learn>=0.21.0->scikit-uplift) (3.1.0)\n",
      "Requirement already satisfied: joblib>=0.11 in /opt/conda/lib/python3.7/site-packages (from scikit-learn>=0.21.0->scikit-uplift) (1.0.1)\n",
      "Requirement already satisfied: scipy>=1.1.0 in /opt/conda/lib/python3.7/site-packages (from scikit-learn>=0.21.0->scikit-uplift) (1.7.3)\n",
      "Requirement already satisfied: kiwisolver>=1.0.1 in /opt/conda/lib/python3.7/site-packages (from matplotlib->scikit-uplift) (1.4.3)\n",
      "Requirement already satisfied: cycler>=0.10 in /opt/conda/lib/python3.7/site-packages (from matplotlib->scikit-uplift) (0.11.0)\n",
      "Requirement already satisfied: packaging>=20.0 in /opt/conda/lib/python3.7/site-packages (from matplotlib->scikit-uplift) (21.3)\n",
      "Requirement already satisfied: pyparsing>=2.2.1 in /opt/conda/lib/python3.7/site-packages (from matplotlib->scikit-uplift) (3.0.9)\n",
      "Requirement already satisfied: pillow>=6.2.0 in /opt/conda/lib/python3.7/site-packages (from matplotlib->scikit-uplift) (9.1.1)\n",
      "Requirement already satisfied: fonttools>=4.22.0 in /opt/conda/lib/python3.7/site-packages (from matplotlib->scikit-uplift) (4.33.3)\n",
      "Requirement already satisfied: python-dateutil>=2.7 in /opt/conda/lib/python3.7/site-packages (from matplotlib->scikit-uplift) (2.8.2)\n",
      "Requirement already satisfied: pytz>=2017.3 in /opt/conda/lib/python3.7/site-packages (from pandas->scikit-uplift) (2022.1)\n",
      "Requirement already satisfied: idna<4,>=2.5 in /opt/conda/lib/python3.7/site-packages (from requests->scikit-uplift) (3.3)\n",
      "Requirement already satisfied: certifi>=2017.4.17 in /opt/conda/lib/python3.7/site-packages (from requests->scikit-uplift) (2022.6.15.2)\n",
      "Requirement already satisfied: charset-normalizer<3,>=2 in /opt/conda/lib/python3.7/site-packages (from requests->scikit-uplift) (2.1.0)\n",
      "Requirement already satisfied: urllib3<1.27,>=1.21.1 in /opt/conda/lib/python3.7/site-packages (from requests->scikit-uplift) (1.26.12)\n",
      "Requirement already satisfied: typing-extensions in /opt/conda/lib/python3.7/site-packages (from kiwisolver>=1.0.1->matplotlib->scikit-uplift) (4.3.0)\n",
      "Requirement already satisfied: six>=1.5 in /opt/conda/lib/python3.7/site-packages (from python-dateutil>=2.7->matplotlib->scikit-uplift) (1.15.0)\n",
      "Installing collected packages: scikit-uplift\n",
      "Successfully installed scikit-uplift-0.5.1\n",
      "\u001b[33mWARNING: Running pip as the 'root' user can result in broken permissions and conflicting behaviour with the system package manager. It is recommended to use a virtual environment instead: https://pip.pypa.io/warnings/venv\u001b[0m\u001b[33m\n",
      "\u001b[0m"
     ]
    }
   ],
   "source": [
    "!pip install scikit-uplift"
   ]
  },
  {
   "cell_type": "markdown",
   "metadata": {},
   "source": [
    "## Try S-learner (my model with treatment indicator)"
   ]
  },
  {
   "cell_type": "code",
   "execution_count": 114,
   "metadata": {},
   "outputs": [
    {
     "data": {
      "text/plain": [
       "461"
      ]
     },
     "execution_count": 114,
     "metadata": {},
     "output_type": "execute_result"
    }
   ],
   "source": [
    "del X, t, y, df\n",
    "gc.collect()"
   ]
  },
  {
   "cell_type": "code",
   "execution_count": 7,
   "metadata": {
    "execution": {
     "iopub.execute_input": "2022-11-03T19:01:06.967832Z",
     "iopub.status.busy": "2022-11-03T19:01:06.967307Z",
     "iopub.status.idle": "2022-11-03T19:01:13.560451Z",
     "shell.execute_reply": "2022-11-03T19:01:13.559230Z",
     "shell.execute_reply.started": "2022-11-03T19:01:06.967776Z"
    }
   },
   "outputs": [
    {
     "data": {
      "text/plain": [
       "0"
      ]
     },
     "execution_count": 7,
     "metadata": {},
     "output_type": "execute_result"
    }
   ],
   "source": [
    "# import gc\n",
    "# del X_train_0, X_train_1\n",
    "# del t_0_train, t_1_train\n",
    "# gc.collect()\n",
    "\n",
    "t_0_test = pd.DataFrame(t_test.apply(lambda x: 0))\n",
    "t_1_test = pd.DataFrame(t_test.apply(lambda x: 1))\n",
    "\n",
    "X_train_t = pd.concat([X_train, pd.DataFrame(t_train)], axis=1)\n",
    "X_test_0 = pd.concat([X_test, t_0_test], axis=1)\n",
    "X_test_1 = pd.concat([X_test, t_1_test], axis=1)\n",
    "\n",
    "del t_0_test, t_1_test\n",
    "gc.collect()"
   ]
  },
  {
   "cell_type": "code",
   "execution_count": 23,
   "metadata": {
    "scrolled": true
   },
   "outputs": [
    {
     "name": "stderr",
     "output_type": "stream",
     "text": [
      "[Parallel(n_jobs=-1)]: Using backend ThreadingBackend with 12 concurrent workers.\n"
     ]
    },
    {
     "name": "stdout",
     "output_type": "stream",
     "text": [
      "building tree 1 of 50building tree 2 of 50\n",
      "building tree 3 of 50\n",
      "building tree 4 of 50building tree 5 of 50\n",
      "\n",
      "\n",
      "building tree 6 of 50\n",
      "building tree 7 of 50building tree 8 of 50\n",
      "building tree 9 of 50building tree 10 of 50building tree 11 of 50\n",
      "\n",
      "\n",
      "\n",
      "building tree 12 of 50\n",
      "building tree 13 of 50\n",
      "building tree 14 of 50\n",
      "building tree 15 of 50\n",
      "building tree 16 of 50\n",
      "building tree 17 of 50\n",
      "building tree 18 of 50\n",
      "building tree 19 of 50\n",
      "building tree 20 of 50\n",
      "building tree 21 of 50\n",
      "building tree 22 of 50\n",
      "building tree 23 of 50\n",
      "building tree 24 of 50\n",
      "building tree 25 of 50\n",
      "building tree 26 of 50\n",
      "building tree 27 of 50\n",
      "building tree 28 of 50\n"
     ]
    },
    {
     "name": "stderr",
     "output_type": "stream",
     "text": [
      "[Parallel(n_jobs=-1)]: Done  17 tasks      | elapsed:  2.0min\n"
     ]
    },
    {
     "name": "stdout",
     "output_type": "stream",
     "text": [
      "building tree 29 of 50\n",
      "building tree 30 of 50\n",
      "building tree 31 of 50\n",
      "building tree 32 of 50\n",
      "building tree 33 of 50\n",
      "building tree 34 of 50\n",
      "building tree 35 of 50\n",
      "building tree 36 of 50\n",
      "building tree 37 of 50\n",
      "building tree 38 of 50\n",
      "building tree 39 of 50\n",
      "building tree 40 of 50\n",
      "building tree 41 of 50\n",
      "building tree 42 of 50\n",
      "building tree 43 of 50\n",
      "building tree 44 of 50\n",
      "building tree 45 of 50\n",
      "building tree 46 of 50\n",
      "building tree 47 of 50\n",
      "building tree 48 of 50\n",
      "building tree 49 of 50\n",
      "building tree 50 of 50\n"
     ]
    },
    {
     "name": "stderr",
     "output_type": "stream",
     "text": [
      "[Parallel(n_jobs=-1)]: Done  50 out of  50 | elapsed:  4.2min finished\n"
     ]
    }
   ],
   "source": [
    "rfclf_2 = RandomForestClassifier(\n",
    "    n_estimators=50, max_depth=13, verbose=2, n_jobs=-1, random_state=42\n",
    ").fit(X_train_t, y_train)"
   ]
  },
  {
   "cell_type": "code",
   "execution_count": 24,
   "metadata": {},
   "outputs": [
    {
     "name": "stderr",
     "output_type": "stream",
     "text": [
      "[Parallel(n_jobs=12)]: Using backend ThreadingBackend with 12 concurrent workers.\n",
      "[Parallel(n_jobs=12)]: Done  17 tasks      | elapsed:    1.2s\n",
      "[Parallel(n_jobs=12)]: Done  50 out of  50 | elapsed:    2.8s finished\n",
      "[Parallel(n_jobs=12)]: Using backend ThreadingBackend with 12 concurrent workers.\n",
      "[Parallel(n_jobs=12)]: Done  17 tasks      | elapsed:    1.1s\n",
      "[Parallel(n_jobs=12)]: Done  50 out of  50 | elapsed:    2.7s finished\n"
     ]
    },
    {
     "data": {
      "text/plain": [
       "(array([      0,       1,       2, ..., 2795917, 2795918, 2795919],\n",
       "       dtype=int64),\n",
       " array([    0.        ,     0.        ,     0.        , ...,\n",
       "        24514.19344663, 24514.15529571, 24514.11714479]))"
      ]
     },
     "execution_count": 24,
     "metadata": {},
     "output_type": "execute_result"
    }
   ],
   "source": [
    "uplift = rfclf_2.predict_proba(X_test_1)[:, 1] - rfclf_2.predict_proba(X_test_0)[:, 1]\n",
    "\n",
    "# qini_auc_score(y_test, preds_1, t_test)\n",
    "qini_curve(y_test, uplift, t_test)"
   ]
  },
  {
   "cell_type": "code",
   "execution_count": 25,
   "metadata": {
    "execution": {
     "iopub.execute_input": "2022-11-03T19:04:01.009115Z",
     "iopub.status.busy": "2022-11-03T19:04:01.008638Z",
     "iopub.status.idle": "2022-11-03T19:04:06.915993Z",
     "shell.execute_reply": "2022-11-03T19:04:06.914966Z",
     "shell.execute_reply.started": "2022-11-03T19:04:01.009078Z"
    }
   },
   "outputs": [
    {
     "data": {
      "text/plain": [
       "<sklift.viz.base.UpliftCurveDisplay at 0x21421f15280>"
      ]
     },
     "execution_count": 25,
     "metadata": {},
     "output_type": "execute_result"
    },
    {
     "data": {
      "image/png": "[encoded data removed]",
      "text/plain": [
       "<Figure size 360x720 with 2 Axes>"
      ]
     },
     "metadata": {
      "needs_background": "light"
     },
     "output_type": "display_data"
    }
   ],
   "source": [
    "# points_x, points_y = qini_curve(y_test, uplift, X_test['treatment'])\n",
    "# perfect_points_x, perfect_points_y = perfect_qini_curve(y_test, X_test['treatment'], negative_effect=False)\n",
    "# plt.plot(points_x, points_y, label='xgb_rf')\n",
    "# plt.plot(perfect_points_x, perfect_points_y, label='perfect_non_neg_effects')\n",
    "# plt.plot(points_x, points_x * points_y[-1] / points_x[-1], label='random')\n",
    "# plt.legend()\n",
    "\n",
    "from sklift.viz import plot_qini_curve\n",
    "\n",
    "fig, axes = plt.subplots(2, 1, figsize=(5, 10))\n",
    "\n",
    "plt.subplot(211)\n",
    "plt.title('With negative effects')\n",
    "plt.subplot(212)\n",
    "plt.title('No negative effects')\n",
    "\n",
    "plot_qini_curve(y_test, uplift, t_test, negative_effect=True, ax=axes[0])\n",
    "plot_qini_curve(y_test, uplift, t_test, negative_effect=False, ax=axes[1])"
   ]
  },
  {
   "cell_type": "code",
   "execution_count": 26,
   "metadata": {
    "execution": {
     "iopub.execute_input": "2022-11-03T19:05:30.813845Z",
     "iopub.status.busy": "2022-11-03T19:05:30.812813Z",
     "iopub.status.idle": "2022-11-03T19:05:33.554018Z",
     "shell.execute_reply": "2022-11-03T19:05:33.552724Z",
     "shell.execute_reply.started": "2022-11-03T19:05:30.813800Z"
    }
   },
   "outputs": [
    {
     "name": "stdout",
     "output_type": "stream",
     "text": [
      "with neg eff: 0.08651118212197886\n",
      "no   neg eff: 0.7141294262285385\n"
     ]
    }
   ],
   "source": [
    "q_neg = qini_auc_score(y_test, uplift, t_test, negative_effect=True)\n",
    "q_non_neg = qini_auc_score(y_test, uplift, t_test, negative_effect=False)\n",
    "print('with neg eff:', q_neg)\n",
    "print('no   neg eff:', q_non_neg)"
   ]
  },
  {
   "cell_type": "markdown",
   "metadata": {},
   "source": [
    "It was a S-learner (one model with treatment indicator)  \n",
    "\n",
    "## Try scikit-uplift implementation of S-learner:"
   ]
  },
  {
   "cell_type": "code",
   "execution_count": 8,
   "metadata": {
    "scrolled": true
   },
   "outputs": [
    {
     "name": "stderr",
     "output_type": "stream",
     "text": [
      "[Parallel(n_jobs=-1)]: Using backend ThreadingBackend with 12 concurrent workers.\n"
     ]
    },
    {
     "name": "stdout",
     "output_type": "stream",
     "text": [
      "building tree 1 of 50building tree 2 of 50\n",
      "building tree 3 of 50\n",
      "building tree 4 of 50\n",
      "building tree 5 of 50\n",
      "building tree 6 of 50\n",
      "building tree 7 of 50\n",
      "building tree 8 of 50\n",
      "building tree 9 of 50\n",
      "building tree 10 of 50building tree 11 of 50\n",
      "\n",
      "\n",
      "building tree 12 of 50\n",
      "building tree 13 of 50\n",
      "building tree 14 of 50\n",
      "building tree 15 of 50\n",
      "building tree 16 of 50\n",
      "building tree 17 of 50\n",
      "building tree 18 of 50\n",
      "building tree 19 of 50\n",
      "building tree 20 of 50\n",
      "building tree 21 of 50\n",
      "building tree 22 of 50\n",
      "building tree 23 of 50\n",
      "building tree 24 of 50\n",
      "building tree 25 of 50\n",
      "building tree 26 of 50\n",
      "building tree 27 of 50\n",
      "building tree 28 of 50\n",
      "building tree 29 of 50\n"
     ]
    },
    {
     "name": "stderr",
     "output_type": "stream",
     "text": [
      "[Parallel(n_jobs=-1)]: Done  17 tasks      | elapsed:  2.2min\n"
     ]
    },
    {
     "name": "stdout",
     "output_type": "stream",
     "text": [
      "building tree 30 of 50\n",
      "building tree 31 of 50\n",
      "building tree 32 of 50\n",
      "building tree 33 of 50building tree 34 of 50\n",
      "\n",
      "building tree 35 of 50\n",
      "building tree 36 of 50\n",
      "building tree 37 of 50\n",
      "building tree 38 of 50\n",
      "building tree 39 of 50\n",
      "building tree 40 of 50\n",
      "building tree 41 of 50\n",
      "building tree 42 of 50\n",
      "building tree 43 of 50\n",
      "building tree 44 of 50\n",
      "building tree 45 of 50\n",
      "building tree 46 of 50\n",
      "building tree 47 of 50\n",
      "building tree 48 of 50\n",
      "building tree 49 of 50\n",
      "building tree 50 of 50\n"
     ]
    },
    {
     "name": "stderr",
     "output_type": "stream",
     "text": [
      "[Parallel(n_jobs=-1)]: Done  50 out of  50 | elapsed:  4.5min finished\n",
      "[Parallel(n_jobs=12)]: Using backend ThreadingBackend with 12 concurrent workers.\n",
      "[Parallel(n_jobs=12)]: Done  17 tasks      | elapsed:    1.2s\n",
      "[Parallel(n_jobs=12)]: Done  50 out of  50 | elapsed:    2.9s finished\n",
      "[Parallel(n_jobs=12)]: Using backend ThreadingBackend with 12 concurrent workers.\n",
      "[Parallel(n_jobs=12)]: Done  17 tasks      | elapsed:    1.1s\n",
      "[Parallel(n_jobs=12)]: Done  50 out of  50 | elapsed:    2.8s finished\n"
     ]
    }
   ],
   "source": [
    "sm = SoloModel(RandomForestClassifier(n_estimators=50, max_depth=13, verbose=2, n_jobs=-1, random_state=42), method='dummy')\n",
    "sm.fit(X_train, y_train, t_train)\n",
    "uplift_sm = sm.predict(X_test)"
   ]
  },
  {
   "cell_type": "code",
   "execution_count": 9,
   "metadata": {},
   "outputs": [
    {
     "data": {
      "text/plain": [
       "<sklift.viz.base.UpliftCurveDisplay at 0x1d4914bc040>"
      ]
     },
     "execution_count": 9,
     "metadata": {},
     "output_type": "execute_result"
    },
    {
     "data": {
      "image/png": "[encoded data removed]",
      "text/plain": [
       "<Figure size 360x720 with 2 Axes>"
      ]
     },
     "metadata": {
      "needs_background": "light"
     },
     "output_type": "display_data"
    }
   ],
   "source": [
    "fig, axes = plt.subplots(2, 1, figsize=(5, 10))\n",
    "\n",
    "plt.subplot(211)\n",
    "plt.title('With negative effects')\n",
    "plt.subplot(212)\n",
    "plt.title('No negative effects')\n",
    "\n",
    "plot_qini_curve(y_test, uplift_sm, t_test, negative_effect=True, ax=axes[0])\n",
    "plot_qini_curve(y_test, uplift_sm, t_test, negative_effect=False, ax=axes[1])"
   ]
  },
  {
   "cell_type": "code",
   "execution_count": 10,
   "metadata": {
    "scrolled": true
   },
   "outputs": [
    {
     "name": "stdout",
     "output_type": "stream",
     "text": [
      "Solo-model from sklift\n",
      "with neg eff: 0.08651124449545028\n",
      "no   neg eff: 0.7141299411068497\n"
     ]
    }
   ],
   "source": [
    "q_neg = qini_auc_score(y_test, uplift_sm, t_test, negative_effect=True)\n",
    "q_non_neg = qini_auc_score(y_test, uplift_sm, t_test, negative_effect=False)\n",
    "print('Solo-model from sklift with dummy features')\n",
    "print('with neg eff:', q_neg)\n",
    "print('no   neg eff:', q_non_neg)"
   ]
  },
  {
   "cell_type": "markdown",
   "metadata": {},
   "source": [
    "My and sklift's implementations give almost the same qini score."
   ]
  },
  {
   "cell_type": "code",
   "execution_count": 11,
   "metadata": {
    "collapsed": true
   },
   "outputs": [
    {
     "name": "stderr",
     "output_type": "stream",
     "text": [
      "[Parallel(n_jobs=-1)]: Using backend ThreadingBackend with 12 concurrent workers.\n"
     ]
    },
    {
     "name": "stdout",
     "output_type": "stream",
     "text": [
      "building tree 1 of 50\n",
      "building tree 2 of 50\n",
      "building tree 3 of 50building tree 4 of 50\n",
      "building tree 5 of 50\n",
      "building tree 6 of 50\n",
      "building tree 7 of 50\n",
      "\n",
      "building tree 8 of 50\n",
      "building tree 9 of 50building tree 10 of 50\n",
      "building tree 11 of 50\n",
      "\n",
      "building tree 12 of 50\n",
      "building tree 13 of 50\n",
      "building tree 14 of 50\n",
      "building tree 15 of 50\n",
      "building tree 16 of 50\n",
      "building tree 17 of 50\n",
      "building tree 18 of 50\n",
      "building tree 19 of 50\n",
      "building tree 20 of 50\n",
      "building tree 21 of 50\n",
      "building tree 22 of 50\n",
      "building tree 23 of 50\n",
      "building tree 24 of 50\n",
      "building tree 25 of 50\n",
      "building tree 26 of 50\n",
      "building tree 27 of 50\n",
      "building tree 28 of 50\n",
      "building tree 29 of 50\n"
     ]
    },
    {
     "name": "stderr",
     "output_type": "stream",
     "text": [
      "[Parallel(n_jobs=-1)]: Done  17 tasks      | elapsed:  2.8min\n"
     ]
    },
    {
     "name": "stdout",
     "output_type": "stream",
     "text": [
      "building tree 30 of 50\n",
      "building tree 31 of 50\n",
      "building tree 32 of 50\n",
      "building tree 33 of 50\n",
      "building tree 34 of 50\n",
      "building tree 35 of 50\n",
      "building tree 36 of 50\n",
      "building tree 37 of 50\n",
      "building tree 38 of 50\n",
      "building tree 39 of 50building tree 40 of 50\n",
      "\n",
      "building tree 41 of 50\n",
      "building tree 42 of 50\n",
      "building tree 43 of 50\n",
      "building tree 44 of 50\n",
      "building tree 45 of 50\n",
      "building tree 46 of 50\n",
      "building tree 47 of 50\n",
      "building tree 48 of 50\n",
      "building tree 49 of 50\n",
      "building tree 50 of 50\n"
     ]
    },
    {
     "name": "stderr",
     "output_type": "stream",
     "text": [
      "[Parallel(n_jobs=-1)]: Done  50 out of  50 | elapsed:  6.1min finished\n",
      "[Parallel(n_jobs=12)]: Using backend ThreadingBackend with 12 concurrent workers.\n",
      "[Parallel(n_jobs=12)]: Done  17 tasks      | elapsed:    1.4s\n",
      "[Parallel(n_jobs=12)]: Done  50 out of  50 | elapsed:    3.4s finished\n",
      "[Parallel(n_jobs=12)]: Using backend ThreadingBackend with 12 concurrent workers.\n",
      "[Parallel(n_jobs=12)]: Done  17 tasks      | elapsed:    1.1s\n",
      "[Parallel(n_jobs=12)]: Done  50 out of  50 | elapsed:    2.8s finished\n"
     ]
    },
    {
     "data": {
      "text/plain": [
       "<sklift.viz.base.UpliftCurveDisplay at 0x1d6cd753cd0>"
      ]
     },
     "execution_count": 11,
     "metadata": {},
     "output_type": "execute_result"
    },
    {
     "data": {
      "image/png": "[encoded data removed]",
      "text/plain": [
       "<Figure size 360x720 with 2 Axes>"
      ]
     },
     "metadata": {
      "needs_background": "light"
     },
     "output_type": "display_data"
    }
   ],
   "source": [
    "# try another method for features: {treatment * feature_i}\n",
    "sm_2 = SoloModel(RandomForestClassifier(n_estimators=50, max_depth=13, verbose=2, n_jobs=-1, random_state=42), \n",
    "               method='treatment_interaction')\n",
    "sm_2.fit(X_train, y_train, t_train)\n",
    "uplift_sm_2 = sm_2.predict(X_test)\n"
   ]
  },
  {
   "cell_type": "code",
   "execution_count": 25,
   "metadata": {},
   "outputs": [
    {
     "data": {
      "image/png": "[encoded data removed]",
      "text/plain": [
       "<Figure size 864x360 with 2 Axes>"
      ]
     },
     "metadata": {
      "needs_background": "light"
     },
     "output_type": "display_data"
    }
   ],
   "source": [
    "fig, axes = plt.subplots(1, 2, figsize=(12, 5))\n",
    "\n",
    "plt.subplot(121)\n",
    "plt.title('With negative effects')\n",
    "plt.subplot(122)\n",
    "plt.title('No negative effects')\n",
    "\n",
    "plot_qini_curve(y_test, uplift_sm_2, t_test, negative_effect=True, ax=axes[0])\n",
    "plot_qini_curve(y_test, uplift_sm_2, t_test, negative_effect=False, ax=axes[1])\n",
    "\n",
    "# plt.subplots_adjust(left=0.35, right=0.65)\n",
    "plt.tight_layout()"
   ]
  },
  {
   "cell_type": "markdown",
   "metadata": {},
   "source": [
    "This model has less qini score than s-learner with just one 'extra' treatment feature."
   ]
  },
  {
   "cell_type": "markdown",
   "metadata": {},
   "source": [
    "## Try 2 seperate models (only sklift)"
   ]
  },
  {
   "cell_type": "code",
   "execution_count": 26,
   "metadata": {
    "collapsed": true
   },
   "outputs": [
    {
     "name": "stderr",
     "output_type": "stream",
     "text": [
      "[Parallel(n_jobs=-1)]: Using backend ThreadingBackend with 12 concurrent workers.\n"
     ]
    },
    {
     "name": "stdout",
     "output_type": "stream",
     "text": [
      "building tree 1 of 50\n",
      "building tree 2 of 50building tree 3 of 50\n",
      "\n",
      "building tree 4 of 50\n",
      "building tree 5 of 50\n",
      "building tree 6 of 50\n",
      "building tree 7 of 50\n",
      "building tree 8 of 50\n",
      "building tree 9 of 50building tree 10 of 50\n",
      "building tree 11 of 50\n",
      "building tree 12 of 50\n",
      "\n",
      "building tree 13 of 50\n",
      "building tree 14 of 50\n",
      "building tree 15 of 50\n",
      "building tree 16 of 50\n",
      "building tree 17 of 50building tree 18 of 50\n",
      "\n",
      "building tree 19 of 50\n",
      "building tree 20 of 50\n",
      "building tree 21 of 50\n",
      "building tree 22 of 50\n",
      "building tree 23 of 50\n",
      "building tree 24 of 50\n",
      "building tree 25 of 50\n",
      "building tree 26 of 50\n",
      "building tree 27 of 50\n",
      "building tree 28 of 50\n"
     ]
    },
    {
     "name": "stderr",
     "output_type": "stream",
     "text": [
      "[Parallel(n_jobs=-1)]: Done  17 tasks      | elapsed:   14.2s\n"
     ]
    },
    {
     "name": "stdout",
     "output_type": "stream",
     "text": [
      "building tree 29 of 50\n",
      "building tree 30 of 50\n",
      "building tree 31 of 50\n",
      "building tree 32 of 50\n",
      "building tree 33 of 50\n",
      "building tree 34 of 50\n",
      "building tree 35 of 50\n",
      "building tree 36 of 50\n",
      "building tree 37 of 50\n",
      "building tree 38 of 50\n",
      "building tree 39 of 50\n",
      "building tree 40 of 50\n",
      "building tree 41 of 50\n",
      "building tree 42 of 50\n",
      "building tree 43 of 50\n",
      "building tree 44 of 50\n",
      "building tree 45 of 50\n",
      "building tree 46 of 50\n",
      "building tree 47 of 50\n",
      "building tree 48 of 50\n",
      "building tree 49 of 50\n",
      "building tree 50 of 50\n"
     ]
    },
    {
     "name": "stderr",
     "output_type": "stream",
     "text": [
      "[Parallel(n_jobs=-1)]: Done  50 out of  50 | elapsed:   31.2s finished\n",
      "[Parallel(n_jobs=-1)]: Using backend ThreadingBackend with 12 concurrent workers.\n"
     ]
    },
    {
     "name": "stdout",
     "output_type": "stream",
     "text": [
      "building tree 1 of 50building tree 2 of 50\n",
      "building tree 3 of 50\n",
      "building tree 4 of 50\n",
      "building tree 5 of 50building tree 6 of 50\n",
      "building tree 7 of 50\n",
      "\n",
      "building tree 8 of 50\n",
      "\n",
      "building tree 9 of 50building tree 10 of 50building tree 11 of 50\n",
      "\n",
      "\n",
      "building tree 12 of 50\n",
      "building tree 13 of 50\n",
      "building tree 14 of 50\n",
      "building tree 15 of 50\n",
      "building tree 16 of 50\n",
      "building tree 17 of 50\n",
      "building tree 18 of 50\n",
      "building tree 19 of 50\n",
      "building tree 20 of 50\n",
      "building tree 21 of 50\n",
      "building tree 22 of 50\n",
      "building tree 23 of 50\n",
      "building tree 24 of 50\n",
      "building tree 25 of 50\n",
      "building tree 26 of 50\n",
      "building tree 27 of 50\n",
      "building tree 28 of 50\n"
     ]
    },
    {
     "name": "stderr",
     "output_type": "stream",
     "text": [
      "[Parallel(n_jobs=-1)]: Done  17 tasks      | elapsed:  1.8min\n"
     ]
    },
    {
     "name": "stdout",
     "output_type": "stream",
     "text": [
      "building tree 29 of 50\n",
      "building tree 30 of 50\n",
      "building tree 31 of 50\n",
      "building tree 32 of 50\n",
      "building tree 33 of 50\n",
      "building tree 34 of 50\n",
      "building tree 35 of 50\n",
      "building tree 36 of 50\n",
      "building tree 37 of 50\n",
      "building tree 38 of 50\n",
      "building tree 39 of 50\n",
      "building tree 40 of 50\n",
      "building tree 41 of 50\n",
      "building tree 42 of 50\n",
      "building tree 43 of 50\n",
      "building tree 44 of 50\n",
      "building tree 45 of 50\n",
      "building tree 46 of 50\n",
      "building tree 47 of 50\n",
      "building tree 48 of 50\n",
      "building tree 49 of 50\n",
      "building tree 50 of 50\n"
     ]
    },
    {
     "name": "stderr",
     "output_type": "stream",
     "text": [
      "[Parallel(n_jobs=-1)]: Done  50 out of  50 | elapsed:  3.8min finished\n",
      "[Parallel(n_jobs=12)]: Using backend ThreadingBackend with 12 concurrent workers.\n",
      "[Parallel(n_jobs=12)]: Done  17 tasks      | elapsed:    1.1s\n",
      "[Parallel(n_jobs=12)]: Done  50 out of  50 | elapsed:    2.9s finished\n",
      "[Parallel(n_jobs=12)]: Using backend ThreadingBackend with 12 concurrent workers.\n",
      "[Parallel(n_jobs=12)]: Done  17 tasks      | elapsed:    1.2s\n",
      "[Parallel(n_jobs=12)]: Done  50 out of  50 | elapsed:    2.9s finished\n"
     ]
    }
   ],
   "source": [
    "tm_1 = TwoModels(\n",
    "    estimator_trmnt=RandomForestClassifier(n_estimators=50, max_depth=13, verbose=2, n_jobs=-1, random_state=42),\n",
    "    estimator_ctrl=RandomForestClassifier(n_estimators=50, max_depth=13, verbose=2, n_jobs=-1, random_state=42),\n",
    "    method='vanilla'\n",
    ")\n",
    "\n",
    "tm_1 = tm_1.fit(X_train, y_train, t_train)\n",
    "uplift_tm_1 = tm_1.predict(X_test)"
   ]
  },
  {
   "cell_type": "code",
   "execution_count": 27,
   "metadata": {
    "collapsed": true
   },
   "outputs": [
    {
     "name": "stderr",
     "output_type": "stream",
     "text": [
      "[Parallel(n_jobs=-1)]: Using backend ThreadingBackend with 12 concurrent workers.\n"
     ]
    },
    {
     "name": "stdout",
     "output_type": "stream",
     "text": [
      "building tree 1 of 50building tree 2 of 50\n",
      "building tree 3 of 50\n",
      "building tree 4 of 50\n",
      "building tree 5 of 50\n",
      "building tree 6 of 50\n",
      "\n",
      "building tree 7 of 50\n",
      "building tree 8 of 50building tree 9 of 50\n",
      "\n",
      "building tree 10 of 50\n",
      "building tree 11 of 50\n",
      "building tree 12 of 50\n",
      "building tree 13 of 50\n",
      "building tree 14 of 50\n",
      "building tree 15 of 50\n",
      "building tree 16 of 50\n",
      "building tree 17 of 50\n",
      "building tree 18 of 50\n",
      "building tree 19 of 50\n",
      "building tree 20 of 50\n",
      "building tree 21 of 50\n",
      "building tree 22 of 50\n",
      "building tree 23 of 50\n",
      "building tree 24 of 50\n",
      "building tree 25 of 50\n",
      "building tree 26 of 50\n",
      "building tree 27 of 50\n",
      "building tree 28 of 50\n",
      "building tree 29 of 50\n"
     ]
    },
    {
     "name": "stderr",
     "output_type": "stream",
     "text": [
      "[Parallel(n_jobs=-1)]: Done  17 tasks      | elapsed:   14.0s\n"
     ]
    },
    {
     "name": "stdout",
     "output_type": "stream",
     "text": [
      "building tree 30 of 50\n",
      "building tree 31 of 50\n",
      "building tree 32 of 50\n",
      "building tree 33 of 50\n",
      "building tree 34 of 50\n",
      "building tree 35 of 50\n",
      "building tree 36 of 50\n",
      "building tree 37 of 50\n",
      "building tree 38 of 50\n",
      "building tree 39 of 50\n",
      "building tree 40 of 50\n",
      "building tree 41 of 50\n",
      "building tree 42 of 50building tree 43 of 50\n",
      "\n",
      "building tree 44 of 50\n",
      "building tree 45 of 50\n",
      "building tree 46 of 50\n",
      "building tree 47 of 50\n",
      "building tree 48 of 50\n",
      "building tree 49 of 50\n",
      "building tree 50 of 50\n"
     ]
    },
    {
     "name": "stderr",
     "output_type": "stream",
     "text": [
      "[Parallel(n_jobs=-1)]: Done  50 out of  50 | elapsed:   31.8s finished\n",
      "[Parallel(n_jobs=12)]: Using backend ThreadingBackend with 12 concurrent workers.\n",
      "[Parallel(n_jobs=12)]: Done  17 tasks      | elapsed:    4.0s\n",
      "[Parallel(n_jobs=12)]: Done  50 out of  50 | elapsed:    9.6s finished\n",
      "[Parallel(n_jobs=-1)]: Using backend ThreadingBackend with 12 concurrent workers.\n"
     ]
    },
    {
     "name": "stdout",
     "output_type": "stream",
     "text": [
      "building tree 1 of 50\n",
      "building tree 2 of 50\n",
      "building tree 3 of 50\n",
      "building tree 4 of 50building tree 5 of 50\n",
      "\n",
      "building tree 6 of 50building tree 7 of 50building tree 8 of 50\n",
      "\n",
      "building tree 9 of 50\n",
      "building tree 10 of 50\n",
      "\n",
      "building tree 11 of 50\n",
      "building tree 12 of 50\n",
      "building tree 13 of 50\n",
      "building tree 14 of 50\n",
      "building tree 15 of 50\n",
      "building tree 16 of 50\n",
      "building tree 17 of 50building tree 18 of 50\n",
      "\n",
      "building tree 19 of 50\n",
      "building tree 20 of 50\n",
      "building tree 21 of 50\n",
      "building tree 22 of 50\n",
      "building tree 23 of 50\n",
      "building tree 24 of 50\n",
      "building tree 25 of 50\n",
      "building tree 26 of 50\n",
      "building tree 27 of 50\n",
      "building tree 28 of 50\n",
      "building tree 29 of 50building tree 30 of 50\n",
      "\n"
     ]
    },
    {
     "name": "stderr",
     "output_type": "stream",
     "text": [
      "[Parallel(n_jobs=-1)]: Done  17 tasks      | elapsed:  1.9min\n"
     ]
    },
    {
     "name": "stdout",
     "output_type": "stream",
     "text": [
      "building tree 31 of 50\n",
      "building tree 32 of 50\n",
      "building tree 33 of 50\n",
      "building tree 34 of 50\n",
      "building tree 35 of 50\n",
      "building tree 36 of 50\n",
      "building tree 37 of 50\n",
      "building tree 38 of 50\n",
      "building tree 39 of 50\n",
      "building tree 40 of 50\n",
      "building tree 41 of 50\n",
      "building tree 42 of 50\n",
      "building tree 43 of 50\n",
      "building tree 44 of 50\n",
      "building tree 45 of 50\n",
      "building tree 46 of 50\n",
      "building tree 47 of 50\n",
      "building tree 48 of 50\n",
      "building tree 49 of 50\n",
      "building tree 50 of 50\n"
     ]
    },
    {
     "name": "stderr",
     "output_type": "stream",
     "text": [
      "[Parallel(n_jobs=-1)]: Done  50 out of  50 | elapsed:  4.0min finished\n",
      "[Parallel(n_jobs=12)]: Using backend ThreadingBackend with 12 concurrent workers.\n",
      "[Parallel(n_jobs=12)]: Done  17 tasks      | elapsed:    1.0s\n",
      "[Parallel(n_jobs=12)]: Done  50 out of  50 | elapsed:    2.6s finished\n",
      "[Parallel(n_jobs=12)]: Using backend ThreadingBackend with 12 concurrent workers.\n",
      "[Parallel(n_jobs=12)]: Done  17 tasks      | elapsed:    1.2s\n",
      "[Parallel(n_jobs=12)]: Done  50 out of  50 | elapsed:    3.0s finished\n"
     ]
    }
   ],
   "source": [
    "tm_2 = TwoModels(\n",
    "    estimator_trmnt=RandomForestClassifier(n_estimators=50, max_depth=13, verbose=2, n_jobs=-1, random_state=42),\n",
    "    estimator_ctrl=RandomForestClassifier(n_estimators=50, max_depth=13, verbose=2, n_jobs=-1, random_state=42),\n",
    "    method='ddr_control'\n",
    ")\n",
    "\n",
    "tm_2 = tm_2.fit(X_train, y_train, t_train)\n",
    "uplift_tm_2 = tm_2.predict(X_test)"
   ]
  },
  {
   "cell_type": "code",
   "execution_count": 28,
   "metadata": {
    "collapsed": true
   },
   "outputs": [
    {
     "name": "stderr",
     "output_type": "stream",
     "text": [
      "[Parallel(n_jobs=-1)]: Using backend ThreadingBackend with 12 concurrent workers.\n"
     ]
    },
    {
     "name": "stdout",
     "output_type": "stream",
     "text": [
      "building tree 1 of 50building tree 2 of 50\n",
      "building tree 3 of 50\n",
      "building tree 4 of 50building tree 5 of 50\n",
      "\n",
      "\n",
      "building tree 6 of 50\n",
      "building tree 7 of 50\n",
      "building tree 8 of 50\n",
      "building tree 9 of 50building tree 10 of 50\n",
      "building tree 11 of 50\n",
      "building tree 12 of 50\n",
      "\n",
      "building tree 13 of 50\n",
      "building tree 14 of 50\n",
      "building tree 15 of 50\n",
      "building tree 16 of 50\n",
      "building tree 17 of 50\n",
      "building tree 18 of 50\n",
      "building tree 19 of 50\n",
      "building tree 20 of 50\n",
      "building tree 21 of 50\n",
      "building tree 22 of 50\n",
      "building tree 23 of 50\n",
      "building tree 24 of 50\n",
      "building tree 25 of 50\n",
      "building tree 26 of 50\n",
      "building tree 27 of 50\n",
      "building tree 28 of 50\n",
      "building tree 29 of 50\n"
     ]
    },
    {
     "name": "stderr",
     "output_type": "stream",
     "text": [
      "[Parallel(n_jobs=-1)]: Done  17 tasks      | elapsed:  1.6min\n"
     ]
    },
    {
     "name": "stdout",
     "output_type": "stream",
     "text": [
      "building tree 30 of 50\n",
      "building tree 31 of 50\n",
      "building tree 32 of 50\n",
      "building tree 33 of 50\n",
      "building tree 34 of 50\n",
      "building tree 35 of 50\n",
      "building tree 36 of 50\n",
      "building tree 37 of 50\n",
      "building tree 38 of 50\n",
      "building tree 39 of 50\n",
      "building tree 40 of 50\n",
      "building tree 41 of 50\n",
      "building tree 42 of 50\n",
      "building tree 43 of 50\n",
      "building tree 44 of 50\n",
      "building tree 45 of 50\n",
      "building tree 46 of 50\n",
      "building tree 47 of 50\n",
      "building tree 48 of 50\n",
      "building tree 49 of 50\n",
      "building tree 50 of 50\n"
     ]
    },
    {
     "name": "stderr",
     "output_type": "stream",
     "text": [
      "[Parallel(n_jobs=-1)]: Done  50 out of  50 | elapsed:  3.6min finished\n",
      "[Parallel(n_jobs=12)]: Using backend ThreadingBackend with 12 concurrent workers.\n",
      "[Parallel(n_jobs=12)]: Done  17 tasks      | elapsed:    0.6s\n",
      "[Parallel(n_jobs=12)]: Done  50 out of  50 | elapsed:    1.5s finished\n",
      "[Parallel(n_jobs=-1)]: Using backend ThreadingBackend with 12 concurrent workers.\n"
     ]
    },
    {
     "name": "stdout",
     "output_type": "stream",
     "text": [
      "building tree 1 of 50building tree 2 of 50building tree 3 of 50\n",
      "\n",
      "building tree 4 of 50\n",
      "\n",
      "building tree 5 of 50building tree 6 of 50building tree 7 of 50\n",
      "building tree 8 of 50\n",
      "building tree 9 of 50\n",
      "\n",
      "\n",
      "building tree 10 of 50\n",
      "building tree 11 of 50\n",
      "building tree 12 of 50\n",
      "building tree 13 of 50\n",
      "building tree 14 of 50\n",
      "building tree 15 of 50\n",
      "building tree 16 of 50\n",
      "building tree 17 of 50\n",
      "building tree 18 of 50\n",
      "building tree 19 of 50\n",
      "building tree 20 of 50\n",
      "building tree 21 of 50\n",
      "building tree 22 of 50\n",
      "building tree 23 of 50\n",
      "building tree 24 of 50\n",
      "building tree 25 of 50\n",
      "building tree 26 of 50\n",
      "building tree 27 of 50\n",
      "building tree 28 of 50\n"
     ]
    },
    {
     "name": "stderr",
     "output_type": "stream",
     "text": [
      "[Parallel(n_jobs=-1)]: Done  17 tasks      | elapsed:   15.2s\n"
     ]
    },
    {
     "name": "stdout",
     "output_type": "stream",
     "text": [
      "building tree 29 of 50\n",
      "building tree 30 of 50\n",
      "building tree 31 of 50\n",
      "building tree 32 of 50\n",
      "building tree 33 of 50\n",
      "building tree 34 of 50\n",
      "building tree 35 of 50\n",
      "building tree 36 of 50\n",
      "building tree 37 of 50\n",
      "building tree 38 of 50\n",
      "building tree 39 of 50\n",
      "building tree 40 of 50\n",
      "building tree 41 of 50\n",
      "building tree 42 of 50\n",
      "building tree 43 of 50\n",
      "building tree 44 of 50\n",
      "building tree 45 of 50\n",
      "building tree 46 of 50\n",
      "building tree 47 of 50\n",
      "building tree 48 of 50\n",
      "building tree 49 of 50\n",
      "building tree 50 of 50\n"
     ]
    },
    {
     "name": "stderr",
     "output_type": "stream",
     "text": [
      "[Parallel(n_jobs=-1)]: Done  50 out of  50 | elapsed:   34.4s finished\n",
      "[Parallel(n_jobs=12)]: Using backend ThreadingBackend with 12 concurrent workers.\n",
      "[Parallel(n_jobs=12)]: Done  17 tasks      | elapsed:    1.1s\n",
      "[Parallel(n_jobs=12)]: Done  50 out of  50 | elapsed:    2.9s finished\n",
      "[Parallel(n_jobs=12)]: Using backend ThreadingBackend with 12 concurrent workers.\n",
      "[Parallel(n_jobs=12)]: Done  17 tasks      | elapsed:    1.1s\n",
      "[Parallel(n_jobs=12)]: Done  50 out of  50 | elapsed:    2.8s finished\n"
     ]
    }
   ],
   "source": [
    "tm_3 = TwoModels(\n",
    "    estimator_trmnt=RandomForestClassifier(n_estimators=50, max_depth=13, verbose=2, n_jobs=-1, random_state=42),\n",
    "    estimator_ctrl=RandomForestClassifier(n_estimators=50, max_depth=13, verbose=2, n_jobs=-1, random_state=42),\n",
    "    method='ddr_treatment'\n",
    ")\n",
    "\n",
    "tm_3 = tm_3.fit(X_train, y_train, t_train)\n",
    "uplift_tm_3 = tm_3.predict(X_test)"
   ]
  },
  {
   "cell_type": "code",
   "execution_count": 34,
   "metadata": {},
   "outputs": [
    {
     "data": {
      "image/png": "[encoded data removed]",
      "text/plain": [
       "<Figure size 864x1080 with 6 Axes>"
      ]
     },
     "metadata": {
      "needs_background": "light"
     },
     "output_type": "display_data"
    }
   ],
   "source": [
    "fig, axes = plt.subplots(3, 2, figsize=(12, 15))\n",
    "\n",
    "upl = [uplift_tm_1, uplift_tm_2, uplift_tm_3]\n",
    "methods = ['vanilla', 'ddr_control', 'ddr_treatment']\n",
    "\n",
    "for i in [1, 2, 3]:\n",
    "    plt.subplot(3, 2, (i - 1) * 2 + 1)\n",
    "    plt.title(f'With negative effects ({methods[i-1]})')\n",
    "    plt.subplot(3, 2, (i - 1) * 2 + 2)\n",
    "    plt.title(f'No negative effects ({methods[i-1]})')\n",
    "\n",
    "    plot_qini_curve(\n",
    "        y_test, \n",
    "        upl[i-1], \n",
    "        t_test, \n",
    "        negative_effect=True, \n",
    "        ax=axes[i - 1, 0])\n",
    "    plot_qini_curve(y_test, upl[i-1], t_test, negative_effect=False, ax=axes[i-1, 1])\n",
    "\n",
    "# plt.subplots_adjust(left=0.35, right=0.65)\n",
    "plt.tight_layout()"
   ]
  },
  {
   "cell_type": "code",
   "execution_count": 35,
   "metadata": {},
   "outputs": [
    {
     "name": "stdout",
     "output_type": "stream",
     "text": [
      "Two-models from sklift, vanilla\n",
      "with neg eff: 0.08088394806418536\n",
      "no   neg eff: 0.667677934867807\n",
      "\n",
      "Two-models from sklift, ddr_control\n",
      "with neg eff: 0.08380109417787995\n",
      "no   neg eff: 0.6917582887515424\n",
      "\n",
      "Two-models from sklift, ddr_treatment\n",
      "with neg eff: 0.08504106629291695\n",
      "no   neg eff: 0.7019939664215368\n",
      "\n"
     ]
    }
   ],
   "source": [
    "q_neg_tm_1 = qini_auc_score(y_test, uplift_tm_1, t_test, negative_effect=True)\n",
    "q_non_neg_tm_1 = qini_auc_score(y_test, uplift_tm_1, t_test, negative_effect=False)\n",
    "print('Two-models from sklift, vanilla')\n",
    "print('with neg eff:', q_neg_tm_1)\n",
    "print('no   neg eff:', q_non_neg_tm_1, end='\\n\\n')\n",
    "\n",
    "q_neg_tm_2 = qini_auc_score(y_test, uplift_tm_2, t_test, negative_effect=True)\n",
    "q_non_neg_tm_2 = qini_auc_score(y_test, uplift_tm_2, t_test, negative_effect=False)\n",
    "print(f'Two-models from sklift, {methods[1]}')\n",
    "print('with neg eff:', q_neg_tm_2)\n",
    "print('no   neg eff:', q_non_neg_tm_2, end='\\n\\n')\n",
    "\n",
    "q_neg_tm_3 = qini_auc_score(y_test, uplift_tm_3, t_test, negative_effect=True)\n",
    "q_non_neg_tm_3 = qini_auc_score(y_test, uplift_tm_3, t_test, negative_effect=False)\n",
    "print(f'Two-models from sklift, {methods[2]}')\n",
    "print('with neg eff:', q_neg_tm_3)\n",
    "print('no   neg eff:', q_non_neg_tm_3, end='\\n\\n')"
   ]
  },
  {
   "cell_type": "markdown",
   "metadata": {},
   "source": [
    "S-learner with only 1 extra feature (treatment indicator) is still the best one."
   ]
  },
  {
   "cell_type": "markdown",
   "metadata": {},
   "source": [
    "## Try Class Transformation"
   ]
  },
  {
   "cell_type": "code",
   "execution_count": 36,
   "metadata": {
    "scrolled": true
   },
   "outputs": [
    {
     "name": "stderr",
     "output_type": "stream",
     "text": [
      "[Parallel(n_jobs=-1)]: Using backend ThreadingBackend with 12 concurrent workers.\n"
     ]
    },
    {
     "name": "stdout",
     "output_type": "stream",
     "text": [
      "building tree 1 of 50building tree 2 of 50building tree 3 of 50\n",
      "\n",
      "building tree 4 of 50building tree 5 of 50\n",
      "\n",
      "\n",
      "building tree 6 of 50\n",
      "building tree 7 of 50\n",
      "building tree 8 of 50\n",
      "building tree 9 of 50building tree 10 of 50building tree 11 of 50\n",
      "\n",
      "\n",
      "building tree 12 of 50\n",
      "building tree 13 of 50\n",
      "building tree 14 of 50\n",
      "building tree 15 of 50\n",
      "building tree 16 of 50\n",
      "building tree 17 of 50\n",
      "building tree 18 of 50\n",
      "building tree 19 of 50\n",
      "building tree 20 of 50\n",
      "building tree 21 of 50\n",
      "building tree 22 of 50\n",
      "building tree 23 of 50\n",
      "building tree 24 of 50\n",
      "building tree 25 of 50\n",
      "building tree 26 of 50\n",
      "building tree 27 of 50\n",
      "building tree 28 of 50\n",
      "building tree 29 of 50"
     ]
    },
    {
     "name": "stderr",
     "output_type": "stream",
     "text": [
      "[Parallel(n_jobs=-1)]: Done  17 tasks      | elapsed:  2.3min\n"
     ]
    },
    {
     "name": "stdout",
     "output_type": "stream",
     "text": [
      "\n",
      "building tree 30 of 50\n",
      "building tree 31 of 50\n",
      "building tree 32 of 50\n",
      "building tree 33 of 50\n",
      "building tree 34 of 50\n",
      "building tree 35 of 50\n",
      "building tree 36 of 50\n",
      "building tree 37 of 50\n",
      "building tree 38 of 50\n",
      "building tree 39 of 50\n",
      "building tree 40 of 50\n",
      "building tree 41 of 50\n",
      "building tree 42 of 50\n",
      "building tree 43 of 50\n",
      "building tree 44 of 50\n",
      "building tree 45 of 50\n",
      "building tree 46 of 50\n",
      "building tree 47 of 50\n",
      "building tree 48 of 50\n",
      "building tree 49 of 50\n",
      "building tree 50 of 50\n"
     ]
    },
    {
     "name": "stderr",
     "output_type": "stream",
     "text": [
      "[Parallel(n_jobs=-1)]: Done  50 out of  50 | elapsed:  5.0min finished\n",
      "[Parallel(n_jobs=12)]: Using backend ThreadingBackend with 12 concurrent workers.\n",
      "[Parallel(n_jobs=12)]: Done  17 tasks      | elapsed:    1.3s\n",
      "[Parallel(n_jobs=12)]: Done  50 out of  50 | elapsed:    3.2s finished\n"
     ]
    },
    {
     "name": "stdout",
     "output_type": "stream",
     "text": [
      "Class Transformation from sklift\n",
      "with neg eff: 0.0864069624889338\n",
      "no   neg eff: 0.7132691177120825\n",
      "\n"
     ]
    }
   ],
   "source": [
    "ct = ClassTransformation(\n",
    "    estimator=RandomForestClassifier(\n",
    "        n_estimators=50, max_depth=13, verbose=2, \n",
    "        n_jobs=-1, random_state=42\n",
    "    )\n",
    ")\n",
    "\n",
    "ct = ct.fit(\n",
    "    X_train, y_train, t_train\n",
    ")\n",
    "uplift_ct = ct.predict(X_test)"
   ]
  },
  {
   "cell_type": "code",
   "execution_count": 42,
   "metadata": {},
   "outputs": [
    {
     "name": "stdout",
     "output_type": "stream",
     "text": [
      "Class Transformation from sklift\n",
      "with neg eff: 0.0864\n",
      "no   neg eff: 0.7133\n",
      "\n"
     ]
    }
   ],
   "source": [
    "q_neg_ct = qini_auc_score(y_test, uplift_ct, t_test, negative_effect=True)\n",
    "q_non_neg_ct = qini_auc_score(y_test, uplift_ct, t_test, negative_effect=False)\n",
    "print(f'Class Transformation from sklift')\n",
    "print('with neg eff:', np.round(q_neg_ct, decimals=4))\n",
    "print('no   neg eff:', np.round(q_non_neg_ct, decimals=4), end='\\n\\n')"
   ]
  },
  {
   "cell_type": "markdown",
   "metadata": {},
   "source": [
    "## Remember score of Solo model from sklift"
   ]
  },
  {
   "cell_type": "code",
   "execution_count": 41,
   "metadata": {},
   "outputs": [
    {
     "name": "stdout",
     "output_type": "stream",
     "text": [
      "Solo-model from sklift\n",
      "with neg eff: 0.0865\n",
      "no   neg eff: 0.7141\n"
     ]
    }
   ],
   "source": [
    "print('Solo-model from sklift')\n",
    "print('with neg eff: 0.0865')  \n",
    "print('no   neg eff: 0.7141')"
   ]
  },
  {
   "cell_type": "markdown",
   "metadata": {},
   "source": [
    "S-learner is the best model among those I've tried."
   ]
  },
  {
   "cell_type": "markdown",
   "metadata": {},
   "source": [
    "# Experiments with features"
   ]
  },
  {
   "cell_type": "code",
   "execution_count": 51,
   "metadata": {},
   "outputs": [
    {
     "data": {
      "image/png": "[encoded data removed]",
      "text/plain": [
       "<Figure size 432x288 with 1 Axes>"
      ]
     },
     "metadata": {
      "needs_background": "light"
     },
     "output_type": "display_data"
    }
   ],
   "source": [
    "fig, ax = plt.subplots()\n",
    "\n",
    "info = list(sorted(zip(\n",
    "    sm.estimator.feature_importances_, \n",
    "    X_train_t.columns\n",
    "), reverse=True))\n",
    "\n",
    "cols = [x[1] for x in info]\n",
    "y_pos = np.arange(len(cols))\n",
    "importance = [x[0] for x in info]\n",
    "\n",
    "ax.barh(y_pos, importance, align='center')\n",
    "ax.set_yticks(y_pos, labels=cols)\n",
    "ax.invert_yaxis()  # labels read top-to-bottom\n",
    "ax.set_xlabel('Importance')\n",
    "ax.set_title('Feature importances')\n",
    "\n",
    "plt.show()"
   ]
  },
  {
   "cell_type": "markdown",
   "metadata": {},
   "source": [
    "## Try Solo-model (sklift) without 3 the least important"
   ]
  },
  {
   "cell_type": "code",
   "execution_count": 52,
   "metadata": {
    "scrolled": true
   },
   "outputs": [
    {
     "name": "stderr",
     "output_type": "stream",
     "text": [
      "[Parallel(n_jobs=-1)]: Using backend ThreadingBackend with 12 concurrent workers.\n"
     ]
    },
    {
     "name": "stdout",
     "output_type": "stream",
     "text": [
      "building tree 1 of 80building tree 2 of 80building tree 3 of 80\n",
      "building tree 4 of 80\n",
      "\n",
      "building tree 5 of 80\n",
      "building tree 6 of 80\n",
      "\n",
      "building tree 7 of 80building tree 8 of 80\n",
      "building tree 9 of 80\n",
      "building tree 10 of 80building tree 11 of 80\n",
      "\n",
      "building tree 12 of 80\n",
      "\n",
      "building tree 13 of 80\n",
      "building tree 14 of 80\n",
      "building tree 15 of 80\n",
      "building tree 16 of 80\n",
      "building tree 17 of 80\n",
      "building tree 18 of 80\n",
      "building tree 19 of 80\n",
      "building tree 20 of 80\n",
      "building tree 21 of 80\n",
      "building tree 22 of 80\n",
      "building tree 23 of 80\n",
      "building tree 24 of 80\n",
      "building tree 25 of 80\n",
      "building tree 26 of 80\n",
      "building tree 27 of 80\n",
      "building tree 28 of 80\n",
      "building tree 29 of 80\n"
     ]
    },
    {
     "name": "stderr",
     "output_type": "stream",
     "text": [
      "[Parallel(n_jobs=-1)]: Done  17 tasks      | elapsed:  1.9min\n"
     ]
    },
    {
     "name": "stdout",
     "output_type": "stream",
     "text": [
      "building tree 30 of 80\n",
      "building tree 31 of 80\n",
      "building tree 32 of 80\n",
      "building tree 33 of 80\n",
      "building tree 34 of 80\n",
      "building tree 35 of 80\n",
      "building tree 36 of 80\n",
      "building tree 37 of 80\n",
      "building tree 38 of 80\n",
      "building tree 39 of 80\n",
      "building tree 40 of 80building tree 41 of 80\n",
      "\n",
      "building tree 42 of 80\n",
      "building tree 43 of 80\n",
      "building tree 44 of 80\n",
      "building tree 45 of 80\n",
      "building tree 46 of 80\n",
      "building tree 47 of 80\n",
      "building tree 48 of 80\n",
      "building tree 49 of 80\n",
      "building tree 50 of 80\n",
      "building tree 51 of 80\n",
      "building tree 52 of 80\n",
      "building tree 53 of 80\n",
      "building tree 54 of 80\n",
      "building tree 55 of 80\n",
      "building tree 56 of 80\n",
      "building tree 57 of 80\n",
      "building tree 58 of 80\n",
      "building tree 59 of 80\n",
      "building tree 60 of 80\n",
      "building tree 61 of 80\n",
      "building tree 62 of 80\n",
      "building tree 63 of 80\n",
      "building tree 64 of 80\n",
      "building tree 65 of 80\n",
      "building tree 66 of 80\n",
      "building tree 67 of 80\n",
      "building tree 68 of 80\n",
      "building tree 69 of 80\n",
      "building tree 70 of 80\n",
      "building tree 71 of 80\n",
      "building tree 72 of 80\n",
      "building tree 73 of 80\n",
      "building tree 74 of 80\n",
      "building tree 75 of 80\n",
      "building tree 76 of 80\n",
      "building tree 77 of 80\n",
      "building tree 78 of 80\n",
      "building tree 79 of 80\n",
      "building tree 80 of 80\n"
     ]
    },
    {
     "name": "stderr",
     "output_type": "stream",
     "text": [
      "[Parallel(n_jobs=-1)]: Done  80 out of  80 | elapsed:  6.3min finished\n",
      "[Parallel(n_jobs=12)]: Using backend ThreadingBackend with 12 concurrent workers.\n",
      "[Parallel(n_jobs=12)]: Done  17 tasks      | elapsed:    1.0s\n",
      "[Parallel(n_jobs=12)]: Done  80 out of  80 | elapsed:    3.9s finished\n",
      "[Parallel(n_jobs=12)]: Using backend ThreadingBackend with 12 concurrent workers.\n",
      "[Parallel(n_jobs=12)]: Done  17 tasks      | elapsed:    1.0s\n",
      "[Parallel(n_jobs=12)]: Done  80 out of  80 | elapsed:    3.8s finished\n"
     ]
    }
   ],
   "source": [
    "sm = SoloModel(\n",
    "    RandomForestClassifier(\n",
    "        n_estimators=80, max_depth=11, \n",
    "        verbose=2, n_jobs=-1, random_state=42\n",
    "    ), \n",
    "    method='dummy'\n",
    ")\n",
    "sm.fit(X_train[cols[:-3]], y_train, t_train)\n",
    "uplift_sm = sm.predict(X_test[cols[:-3]])"
   ]
  },
  {
   "cell_type": "code",
   "execution_count": 53,
   "metadata": {},
   "outputs": [
    {
     "name": "stdout",
     "output_type": "stream",
     "text": [
      "Solo-model from sklift without 3 \"bad\" features\n",
      "with neg eff: 0.0868\n",
      "no   neg eff: 0.7166\n",
      "\n"
     ]
    }
   ],
   "source": [
    "q_neg_sm = qini_auc_score(y_test, uplift_sm, t_test, negative_effect=True)\n",
    "q_non_neg_sm = qini_auc_score(y_test, uplift_sm, t_test, negative_effect=False)\n",
    "print(f'Solo-model from sklift without 3 \"bad\" features')\n",
    "print('with neg eff:', np.round(q_neg_sm, decimals=4))\n",
    "print('no   neg eff:', np.round(q_non_neg_sm, decimals=4), end='\\n\\n')"
   ]
  },
  {
   "cell_type": "markdown",
   "metadata": {},
   "source": [
    "This is new best result -- Solo model without f1, f5, f7 is better than with them."
   ]
  },
  {
   "cell_type": "code",
   "execution_count": 61,
   "metadata": {
    "scrolled": false
   },
   "outputs": [
    {
     "data": {
      "text/plain": [
       "<AxesSubplot:>"
      ]
     },
     "execution_count": 61,
     "metadata": {},
     "output_type": "execute_result"
    },
    {
     "data": {
      "image/png": "[encoded data removed]",
      "text/plain": [
       "<Figure size 720x720 with 2 Axes>"
      ]
     },
     "metadata": {
      "needs_background": "light"
     },
     "output_type": "display_data"
    }
   ],
   "source": [
    "corr_matr = X_train[cols[:-3]].corr()\n",
    "\n",
    "fig, ax = plt.subplots(1, 1, figsize=(10, 10))\n",
    "sns.heatmap(corr_matr, annot=True)"
   ]
  },
  {
   "cell_type": "markdown",
   "metadata": {},
   "source": [
    "f4-f11: f11 is less correlated with most of features (f4 leaves)  \n",
    "f8-f9 : are quite similar (both stay)  \n",
    "f2-f0 : f2 is less correlated with other features (f0 leaves)"
   ]
  },
  {
   "cell_type": "code",
   "execution_count": 11,
   "metadata": {},
   "outputs": [],
   "source": [
    "new_feats = ['f2', 'f3', 'f6', 'f8', 'f9', 'f10', 'f11']"
   ]
  },
  {
   "cell_type": "markdown",
   "metadata": {},
   "source": [
    "## Try Solo-model with new_feats"
   ]
  },
  {
   "cell_type": "code",
   "execution_count": 64,
   "metadata": {
    "scrolled": true
   },
   "outputs": [
    {
     "name": "stderr",
     "output_type": "stream",
     "text": [
      "[Parallel(n_jobs=-1)]: Using backend ThreadingBackend with 12 concurrent workers.\n"
     ]
    },
    {
     "name": "stdout",
     "output_type": "stream",
     "text": [
      "building tree 1 of 80building tree 2 of 80building tree 3 of 80\n",
      "\n",
      "building tree 4 of 80\n",
      "building tree 5 of 80building tree 6 of 80\n",
      "\n",
      "\n",
      "building tree 7 of 80building tree 8 of 80\n",
      "\n",
      "building tree 9 of 80building tree 10 of 80\n",
      "\n",
      "building tree 11 of 80\n",
      "building tree 12 of 80\n",
      "building tree 13 of 80\n",
      "building tree 14 of 80\n",
      "building tree 15 of 80\n",
      "building tree 16 of 80\n",
      "building tree 17 of 80\n",
      "building tree 18 of 80\n",
      "building tree 19 of 80\n",
      "building tree 20 of 80\n",
      "building tree 21 of 80\n",
      "building tree 22 of 80\n",
      "building tree 23 of 80\n",
      "building tree 24 of 80\n",
      "building tree 25 of 80\n",
      "building tree 26 of 80\n",
      "building tree 27 of 80\n",
      "building tree 28 of 80\n",
      "building tree 29 of 80\n"
     ]
    },
    {
     "name": "stderr",
     "output_type": "stream",
     "text": [
      "[Parallel(n_jobs=-1)]: Done  17 tasks      | elapsed:  1.5min\n"
     ]
    },
    {
     "name": "stdout",
     "output_type": "stream",
     "text": [
      "building tree 30 of 80\n",
      "building tree 31 of 80\n",
      "building tree 32 of 80\n",
      "building tree 33 of 80\n",
      "building tree 34 of 80\n",
      "building tree 35 of 80\n",
      "building tree 36 of 80\n",
      "building tree 37 of 80\n",
      "building tree 38 of 80\n",
      "building tree 39 of 80\n",
      "building tree 40 of 80\n",
      "building tree 41 of 80\n",
      "building tree 42 of 80\n",
      "building tree 43 of 80\n",
      "building tree 44 of 80\n",
      "building tree 45 of 80\n",
      "building tree 46 of 80\n",
      "building tree 47 of 80\n",
      "building tree 48 of 80\n",
      "building tree 49 of 80\n",
      "building tree 50 of 80\n",
      "building tree 51 of 80\n",
      "building tree 52 of 80\n",
      "building tree 53 of 80\n",
      "building tree 54 of 80\n",
      "building tree 55 of 80\n",
      "building tree 56 of 80\n",
      "building tree 57 of 80\n",
      "building tree 58 of 80\n",
      "building tree 59 of 80\n",
      "building tree 60 of 80\n",
      "building tree 61 of 80\n",
      "building tree 62 of 80\n",
      "building tree 63 of 80\n",
      "building tree 64 of 80\n",
      "building tree 65 of 80\n",
      "building tree 66 of 80\n",
      "building tree 67 of 80\n",
      "building tree 68 of 80\n",
      "building tree 69 of 80\n",
      "building tree 70 of 80\n",
      "building tree 71 of 80\n",
      "building tree 72 of 80\n",
      "building tree 73 of 80\n",
      "building tree 74 of 80\n",
      "building tree 75 of 80\n",
      "building tree 76 of 80\n",
      "building tree 77 of 80\n",
      "building tree 78 of 80\n",
      "building tree 79 of 80\n",
      "building tree 80 of 80\n"
     ]
    },
    {
     "name": "stderr",
     "output_type": "stream",
     "text": [
      "[Parallel(n_jobs=-1)]: Done  80 out of  80 | elapsed:  4.9min finished\n",
      "[Parallel(n_jobs=12)]: Using backend ThreadingBackend with 12 concurrent workers.\n",
      "[Parallel(n_jobs=12)]: Done  17 tasks      | elapsed:    0.9s\n",
      "[Parallel(n_jobs=12)]: Done  80 out of  80 | elapsed:    3.7s finished\n",
      "[Parallel(n_jobs=12)]: Using backend ThreadingBackend with 12 concurrent workers.\n",
      "[Parallel(n_jobs=12)]: Done  17 tasks      | elapsed:    0.9s\n",
      "[Parallel(n_jobs=12)]: Done  80 out of  80 | elapsed:    3.9s finished\n"
     ]
    }
   ],
   "source": [
    "sm = SoloModel(\n",
    "    RandomForestClassifier(\n",
    "        n_estimators=80, max_depth=11, \n",
    "        verbose=2, n_jobs=-1, random_state=42\n",
    "    ), \n",
    "    method='dummy'\n",
    ")\n",
    "sm.fit(X_train[new_feats], y_train, t_train)\n",
    "uplift_sm = sm.predict(X_test[new_feats])"
   ]
  },
  {
   "cell_type": "code",
   "execution_count": 66,
   "metadata": {},
   "outputs": [
    {
     "name": "stdout",
     "output_type": "stream",
     "text": [
      "Solo-model from sklift with new_feats: ['f2', 'f3', 'f6', 'f8', 'f9', 'f10', 'f11']\n",
      "with neg eff: 0.0877\n",
      "no   neg eff: 0.7236\n",
      "\n"
     ]
    }
   ],
   "source": [
    "q_neg_sm = qini_auc_score(y_test, uplift_sm, t_test, negative_effect=True)\n",
    "q_non_neg_sm = qini_auc_score(y_test, uplift_sm, t_test, negative_effect=False)\n",
    "print(f'Solo-model from sklift with new_feats: {new_feats}')\n",
    "print('with neg eff:', np.round(q_neg_sm, decimals=4))\n",
    "print('no   neg eff:', np.round(q_non_neg_sm, decimals=4), end='\\n\\n')"
   ]
  },
  {
   "cell_type": "markdown",
   "metadata": {},
   "source": [
    "This is again better than was last best result!!"
   ]
  },
  {
   "cell_type": "code",
   "execution_count": 67,
   "metadata": {},
   "outputs": [
    {
     "data": {
      "text/plain": [
       "<AxesSubplot:>"
      ]
     },
     "execution_count": 67,
     "metadata": {},
     "output_type": "execute_result"
    },
    {
     "data": {
      "image/png": "[encoded data removed]",
      "text/plain": [
       "<Figure size 720x720 with 2 Axes>"
      ]
     },
     "metadata": {
      "needs_background": "light"
     },
     "output_type": "display_data"
    }
   ],
   "source": [
    "corr_matr = X_train[new_feats].corr()\n",
    "\n",
    "fig, ax = plt.subplots(1, 1, figsize=(10, 10))\n",
    "sns.heatmap(corr_matr, annot=True)"
   ]
  },
  {
   "cell_type": "markdown",
   "metadata": {},
   "source": [
    "## Try Polinomial (deg=2) features with new_feats"
   ]
  },
  {
   "cell_type": "code",
   "execution_count": 6,
   "metadata": {},
   "outputs": [],
   "source": [
    "# 10% of initial data with the same distributions of people by treatment and visit\n",
    "\n",
    "sub_df = pd.concat([\n",
    "        df[(df.treatment == 1) & (df.visit == 1)].sample(frac=0.1),\n",
    "        df[(df.treatment == 1) & (df.visit == 0)].sample(frac=0.1),\n",
    "        df[(df.treatment == 0) & (df.visit == 1)].sample(frac=0.1),\n",
    "        df[(df.treatment == 0) & (df.visit == 0)].sample(frac=0.1)\n",
    "    ],\n",
    "    axis=0\n",
    ")"
   ]
  },
  {
   "cell_type": "code",
   "execution_count": 9,
   "metadata": {},
   "outputs": [
    {
     "data": {
      "text/plain": [
       "0.09999991416058494"
      ]
     },
     "execution_count": 9,
     "metadata": {},
     "output_type": "execute_result"
    }
   ],
   "source": [
    "sub_df.shape[0] / df.shape[0]"
   ]
  },
  {
   "cell_type": "code",
   "execution_count": 13,
   "metadata": {},
   "outputs": [],
   "source": [
    "# use new_feats\n",
    "sub_X, sub_t, sub_y = sub_df[new_feats], sub_df[treatment], sub_df[target]\n",
    "\n",
    "sub_X_train, sub_X_test, sub_t_train, sub_t_test, sub_y_train, sub_y_test = train_test_split(\n",
    "    sub_X, sub_t, sub_y, test_size=0.2, shuffle=True, stratify=sub_t, random_state=42\n",
    ")"
   ]
  },
  {
   "cell_type": "code",
   "execution_count": 14,
   "metadata": {},
   "outputs": [],
   "source": [
    "from sklearn.preprocessing import PolynomialFeatures"
   ]
  },
  {
   "cell_type": "code",
   "execution_count": 67,
   "metadata": {},
   "outputs": [],
   "source": [
    "pf = PolynomialFeatures(degree=2, include_bias=False)\n",
    "pf.fit(sub_X_train)\n",
    "\n",
    "new_X_train = pd.DataFrame(\n",
    "    pf.transform(sub_X_train),\n",
    "    columns=pf.get_feature_names_out()\n",
    ")\n",
    "new_X_train.head(2)\n",
    "new_X_train = new_X_train.fillna(0)"
   ]
  },
  {
   "cell_type": "code",
   "execution_count": 68,
   "metadata": {},
   "outputs": [],
   "source": [
    "new_X_test = pd.DataFrame(\n",
    "    pf.transform(sub_X_test),\n",
    "    columns=pf.get_feature_names_out()\n",
    ")\n",
    "new_X_test = new_X_test.fillna(0)"
   ]
  },
  {
   "cell_type": "code",
   "execution_count": 69,
   "metadata": {
    "scrolled": true
   },
   "outputs": [
    {
     "ename": "ValueError",
     "evalue": "Input X contains NaN.\nRandomForestClassifier does not accept missing values encoded as NaN natively. For supervised learning, you might want to consider sklearn.ensemble.HistGradientBoostingClassifier and Regressor which accept missing values encoded as NaNs natively. Alternatively, it is possible to preprocess the data, for instance by using an imputer transformer in a pipeline or drop samples with missing values. See https://scikit-learn.org/stable/modules/impute.html You can find a list of all estimators that handle NaN values at the following page: https://scikit-learn.org/stable/modules/impute.html#estimators-that-handle-nan-values",
     "output_type": "error",
     "traceback": [
      "\u001b[1;31m---------------------------------------------------------------------------\u001b[0m",
      "\u001b[1;31mValueError\u001b[0m                                Traceback (most recent call last)",
      "\u001b[1;32mC:\\Users\\BF42~1\\AppData\\Local\\Temp/ipykernel_3936/249000215.py\u001b[0m in \u001b[0;36m<module>\u001b[1;34m\u001b[0m\n\u001b[0;32m      6\u001b[0m     \u001b[0mmethod\u001b[0m\u001b[1;33m=\u001b[0m\u001b[1;34m'dummy'\u001b[0m\u001b[1;33m\u001b[0m\u001b[1;33m\u001b[0m\u001b[0m\n\u001b[0;32m      7\u001b[0m )\n\u001b[1;32m----> 8\u001b[1;33m \u001b[0msm\u001b[0m\u001b[1;33m.\u001b[0m\u001b[0mfit\u001b[0m\u001b[1;33m(\u001b[0m\u001b[0mnew_X_train\u001b[0m\u001b[1;33m,\u001b[0m \u001b[0msub_y_train\u001b[0m\u001b[1;33m,\u001b[0m \u001b[0msub_t_train\u001b[0m\u001b[1;33m)\u001b[0m\u001b[1;33m\u001b[0m\u001b[1;33m\u001b[0m\u001b[0m\n\u001b[0m\u001b[0;32m      9\u001b[0m \u001b[0muplift_sm\u001b[0m \u001b[1;33m=\u001b[0m \u001b[0msm\u001b[0m\u001b[1;33m.\u001b[0m\u001b[0mpredict\u001b[0m\u001b[1;33m(\u001b[0m\u001b[0mnew_X_test\u001b[0m\u001b[1;33m)\u001b[0m\u001b[1;33m\u001b[0m\u001b[1;33m\u001b[0m\u001b[0m\n",
      "\u001b[1;32mc:\\users\\виктор мельников\\appdata\\local\\programs\\python\\python38\\lib\\site-packages\\sklift\\models\\models.py\u001b[0m in \u001b[0;36mfit\u001b[1;34m(self, X, y, treatment, estimator_fit_params)\u001b[0m\n\u001b[0;32m    127\u001b[0m         \u001b[1;32mif\u001b[0m \u001b[0mestimator_fit_params\u001b[0m \u001b[1;32mis\u001b[0m \u001b[1;32mNone\u001b[0m\u001b[1;33m:\u001b[0m\u001b[1;33m\u001b[0m\u001b[1;33m\u001b[0m\u001b[0m\n\u001b[0;32m    128\u001b[0m             \u001b[0mestimator_fit_params\u001b[0m \u001b[1;33m=\u001b[0m \u001b[1;33m{\u001b[0m\u001b[1;33m}\u001b[0m\u001b[1;33m\u001b[0m\u001b[1;33m\u001b[0m\u001b[0m\n\u001b[1;32m--> 129\u001b[1;33m         \u001b[0mself\u001b[0m\u001b[1;33m.\u001b[0m\u001b[0mestimator\u001b[0m\u001b[1;33m.\u001b[0m\u001b[0mfit\u001b[0m\u001b[1;33m(\u001b[0m\u001b[0mX_mod\u001b[0m\u001b[1;33m,\u001b[0m \u001b[0my\u001b[0m\u001b[1;33m,\u001b[0m \u001b[1;33m**\u001b[0m\u001b[0mestimator_fit_params\u001b[0m\u001b[1;33m)\u001b[0m\u001b[1;33m\u001b[0m\u001b[1;33m\u001b[0m\u001b[0m\n\u001b[0m\u001b[0;32m    130\u001b[0m         \u001b[1;32mreturn\u001b[0m \u001b[0mself\u001b[0m\u001b[1;33m\u001b[0m\u001b[1;33m\u001b[0m\u001b[0m\n\u001b[0;32m    131\u001b[0m \u001b[1;33m\u001b[0m\u001b[0m\n",
      "\u001b[1;32mc:\\users\\виктор мельников\\appdata\\local\\programs\\python\\python38\\lib\\site-packages\\sklearn\\ensemble\\_forest.py\u001b[0m in \u001b[0;36mfit\u001b[1;34m(self, X, y, sample_weight)\u001b[0m\n\u001b[0;32m    329\u001b[0m         \u001b[1;32mif\u001b[0m \u001b[0missparse\u001b[0m\u001b[1;33m(\u001b[0m\u001b[0my\u001b[0m\u001b[1;33m)\u001b[0m\u001b[1;33m:\u001b[0m\u001b[1;33m\u001b[0m\u001b[1;33m\u001b[0m\u001b[0m\n\u001b[0;32m    330\u001b[0m             \u001b[1;32mraise\u001b[0m \u001b[0mValueError\u001b[0m\u001b[1;33m(\u001b[0m\u001b[1;34m\"sparse multilabel-indicator for y is not supported.\"\u001b[0m\u001b[1;33m)\u001b[0m\u001b[1;33m\u001b[0m\u001b[1;33m\u001b[0m\u001b[0m\n\u001b[1;32m--> 331\u001b[1;33m         X, y = self._validate_data(\n\u001b[0m\u001b[0;32m    332\u001b[0m             \u001b[0mX\u001b[0m\u001b[1;33m,\u001b[0m \u001b[0my\u001b[0m\u001b[1;33m,\u001b[0m \u001b[0mmulti_output\u001b[0m\u001b[1;33m=\u001b[0m\u001b[1;32mTrue\u001b[0m\u001b[1;33m,\u001b[0m \u001b[0maccept_sparse\u001b[0m\u001b[1;33m=\u001b[0m\u001b[1;34m\"csc\"\u001b[0m\u001b[1;33m,\u001b[0m \u001b[0mdtype\u001b[0m\u001b[1;33m=\u001b[0m\u001b[0mDTYPE\u001b[0m\u001b[1;33m\u001b[0m\u001b[1;33m\u001b[0m\u001b[0m\n\u001b[0;32m    333\u001b[0m         )\n",
      "\u001b[1;32mc:\\users\\виктор мельников\\appdata\\local\\programs\\python\\python38\\lib\\site-packages\\sklearn\\base.py\u001b[0m in \u001b[0;36m_validate_data\u001b[1;34m(self, X, y, reset, validate_separately, **check_params)\u001b[0m\n\u001b[0;32m    594\u001b[0m                 \u001b[0my\u001b[0m \u001b[1;33m=\u001b[0m \u001b[0mcheck_array\u001b[0m\u001b[1;33m(\u001b[0m\u001b[0my\u001b[0m\u001b[1;33m,\u001b[0m \u001b[0minput_name\u001b[0m\u001b[1;33m=\u001b[0m\u001b[1;34m\"y\"\u001b[0m\u001b[1;33m,\u001b[0m \u001b[1;33m**\u001b[0m\u001b[0mcheck_y_params\u001b[0m\u001b[1;33m)\u001b[0m\u001b[1;33m\u001b[0m\u001b[1;33m\u001b[0m\u001b[0m\n\u001b[0;32m    595\u001b[0m             \u001b[1;32melse\u001b[0m\u001b[1;33m:\u001b[0m\u001b[1;33m\u001b[0m\u001b[1;33m\u001b[0m\u001b[0m\n\u001b[1;32m--> 596\u001b[1;33m                 \u001b[0mX\u001b[0m\u001b[1;33m,\u001b[0m \u001b[0my\u001b[0m \u001b[1;33m=\u001b[0m \u001b[0mcheck_X_y\u001b[0m\u001b[1;33m(\u001b[0m\u001b[0mX\u001b[0m\u001b[1;33m,\u001b[0m \u001b[0my\u001b[0m\u001b[1;33m,\u001b[0m \u001b[1;33m**\u001b[0m\u001b[0mcheck_params\u001b[0m\u001b[1;33m)\u001b[0m\u001b[1;33m\u001b[0m\u001b[1;33m\u001b[0m\u001b[0m\n\u001b[0m\u001b[0;32m    597\u001b[0m             \u001b[0mout\u001b[0m \u001b[1;33m=\u001b[0m \u001b[0mX\u001b[0m\u001b[1;33m,\u001b[0m \u001b[0my\u001b[0m\u001b[1;33m\u001b[0m\u001b[1;33m\u001b[0m\u001b[0m\n\u001b[0;32m    598\u001b[0m \u001b[1;33m\u001b[0m\u001b[0m\n",
      "\u001b[1;32mc:\\users\\виктор мельников\\appdata\\local\\programs\\python\\python38\\lib\\site-packages\\sklearn\\utils\\validation.py\u001b[0m in \u001b[0;36mcheck_X_y\u001b[1;34m(X, y, accept_sparse, accept_large_sparse, dtype, order, copy, force_all_finite, ensure_2d, allow_nd, multi_output, ensure_min_samples, ensure_min_features, y_numeric, estimator)\u001b[0m\n\u001b[0;32m   1072\u001b[0m         )\n\u001b[0;32m   1073\u001b[0m \u001b[1;33m\u001b[0m\u001b[0m\n\u001b[1;32m-> 1074\u001b[1;33m     X = check_array(\n\u001b[0m\u001b[0;32m   1075\u001b[0m         \u001b[0mX\u001b[0m\u001b[1;33m,\u001b[0m\u001b[1;33m\u001b[0m\u001b[1;33m\u001b[0m\u001b[0m\n\u001b[0;32m   1076\u001b[0m         \u001b[0maccept_sparse\u001b[0m\u001b[1;33m=\u001b[0m\u001b[0maccept_sparse\u001b[0m\u001b[1;33m,\u001b[0m\u001b[1;33m\u001b[0m\u001b[1;33m\u001b[0m\u001b[0m\n",
      "\u001b[1;32mc:\\users\\виктор мельников\\appdata\\local\\programs\\python\\python38\\lib\\site-packages\\sklearn\\utils\\validation.py\u001b[0m in \u001b[0;36mcheck_array\u001b[1;34m(array, accept_sparse, accept_large_sparse, dtype, order, copy, force_all_finite, ensure_2d, allow_nd, ensure_min_samples, ensure_min_features, estimator, input_name)\u001b[0m\n\u001b[0;32m    897\u001b[0m \u001b[1;33m\u001b[0m\u001b[0m\n\u001b[0;32m    898\u001b[0m         \u001b[1;32mif\u001b[0m \u001b[0mforce_all_finite\u001b[0m\u001b[1;33m:\u001b[0m\u001b[1;33m\u001b[0m\u001b[1;33m\u001b[0m\u001b[0m\n\u001b[1;32m--> 899\u001b[1;33m             _assert_all_finite(\n\u001b[0m\u001b[0;32m    900\u001b[0m                 \u001b[0marray\u001b[0m\u001b[1;33m,\u001b[0m\u001b[1;33m\u001b[0m\u001b[1;33m\u001b[0m\u001b[0m\n\u001b[0;32m    901\u001b[0m                 \u001b[0minput_name\u001b[0m\u001b[1;33m=\u001b[0m\u001b[0minput_name\u001b[0m\u001b[1;33m,\u001b[0m\u001b[1;33m\u001b[0m\u001b[1;33m\u001b[0m\u001b[0m\n",
      "\u001b[1;32mc:\\users\\виктор мельников\\appdata\\local\\programs\\python\\python38\\lib\\site-packages\\sklearn\\utils\\validation.py\u001b[0m in \u001b[0;36m_assert_all_finite\u001b[1;34m(X, allow_nan, msg_dtype, estimator_name, input_name)\u001b[0m\n\u001b[0;32m    144\u001b[0m                     \u001b[1;34m\"#estimators-that-handle-nan-values\"\u001b[0m\u001b[1;33m\u001b[0m\u001b[1;33m\u001b[0m\u001b[0m\n\u001b[0;32m    145\u001b[0m                 )\n\u001b[1;32m--> 146\u001b[1;33m             \u001b[1;32mraise\u001b[0m \u001b[0mValueError\u001b[0m\u001b[1;33m(\u001b[0m\u001b[0mmsg_err\u001b[0m\u001b[1;33m)\u001b[0m\u001b[1;33m\u001b[0m\u001b[1;33m\u001b[0m\u001b[0m\n\u001b[0m\u001b[0;32m    147\u001b[0m \u001b[1;33m\u001b[0m\u001b[0m\n\u001b[0;32m    148\u001b[0m     \u001b[1;31m# for object dtype data, we only check for NaNs (GH-13254)\u001b[0m\u001b[1;33m\u001b[0m\u001b[1;33m\u001b[0m\u001b[1;33m\u001b[0m\u001b[0m\n",
      "\u001b[1;31mValueError\u001b[0m: Input X contains NaN.\nRandomForestClassifier does not accept missing values encoded as NaN natively. For supervised learning, you might want to consider sklearn.ensemble.HistGradientBoostingClassifier and Regressor which accept missing values encoded as NaNs natively. Alternatively, it is possible to preprocess the data, for instance by using an imputer transformer in a pipeline or drop samples with missing values. See https://scikit-learn.org/stable/modules/impute.html You can find a list of all estimators that handle NaN values at the following page: https://scikit-learn.org/stable/modules/impute.html#estimators-that-handle-nan-values"
     ]
    }
   ],
   "source": [
    "sm = SoloModel(\n",
    "    RandomForestClassifier(\n",
    "        n_estimators=80, max_depth=15, \n",
    "        verbose=2, n_jobs=-1, random_state=42\n",
    "    ), \n",
    "    method='dummy'\n",
    ")\n",
    "sm.fit(new_X_train, sub_y_train, sub_t_train)\n",
    "uplift_sm = sm.predict(new_X_test)"
   ]
  },
  {
   "cell_type": "code",
   "execution_count": 58,
   "metadata": {},
   "outputs": [
    {
     "name": "stdout",
     "output_type": "stream",
     "text": [
      "Solo-model from sklift with new_feats: ['f2', 'f3', 'f6', 'f8', 'f9', 'f10', 'f11']\n",
      "with neg eff: 0.0629\n",
      "no   neg eff: 0.5936\n",
      "\n"
     ]
    }
   ],
   "source": [
    "q_neg_sm = qini_auc_score(sub_y_test, uplift_sm, sub_t_test, negative_effect=True)\n",
    "q_non_neg_sm = qini_auc_score(sub_y_test, uplift_sm, sub_t_test, negative_effect=False)\n",
    "print(f'Solo-model from sklift with new_feats: {new_feats}')\n",
    "print('with neg eff:', np.round(q_neg_sm, decimals=4))\n",
    "print('no   neg eff:', np.round(q_non_neg_sm, decimals=4), end='\\n\\n')"
   ]
  },
  {
   "cell_type": "code",
   "execution_count": null,
   "metadata": {},
   "outputs": [],
   "source": []
  }
 ],
 "metadata": {
  "kernelspec": {
   "display_name": "Python 3 (ipykernel)",
   "language": "python",
   "name": "python3"
  },
  "language_info": {
   "codemirror_mode": {
    "name": "ipython",
    "version": 3
   },
   "file_extension": ".py",
   "mimetype": "text/x-python",
   "name": "python",
   "nbconvert_exporter": "python",
   "pygments_lexer": "ipython3",
   "version": "3.8.10"
  }
 },
 "nbformat": 4,
 "nbformat_minor": 4
}
